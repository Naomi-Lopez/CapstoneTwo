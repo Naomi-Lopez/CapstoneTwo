{
 "cells": [
  {
   "cell_type": "markdown",
   "id": "e093f0b3",
   "metadata": {},
   "source": [
    "# Predicting Hepatitis C- Modeling "
   ]
  },
  {
   "cell_type": "markdown",
   "id": "6f5e769f",
   "metadata": {},
   "source": [
    "#### Independent Capstone: Springboard Data Science Career Track\n",
    "Notebook by Naomi Lopez\n"
   ]
  },
  {
   "cell_type": "markdown",
   "id": "b1cd3239",
   "metadata": {},
   "source": [
    "The Goal of this project is to build a model that can effectively classify Hepatitis C status and severity from a data set of liver functional panel tests. Hepatitis C is a virus known to cause liver damage, cancer, and can lead to irreversible liver failure. It is commonsly spread through blood to blood contact with an infected person- most commonly by sharing needles used in intravenous drug use/ other methods used to inject drugs or in rare cases via blood transfusion. It is also transmitted sexually. There is a cure for Hepatitis C with a 95% effectiveness rate however many people go unscreened and pass the disease to others before receiving a diagnosis. \n",
    "\n",
    "A liver function panel test is a routine blood panel that is commonly completed at annual physical exams. Medical providers will order it to determine the internal state of the liver and is helpful in diagnosing a variety of internal conditions. Currently, the CDC recommends testing for Hepatitis C once in a persons life of age 18 or older. However, if a person were to test negative once and contract Hepatitis C later in life it may not register for a provider to screen again. \n",
    "\n",
    "The data set categories each patient into four categoreis, 0= Blood donor (hep c negative), 0s= Suspected Blood Donor (hep c negative), 1=Hepatitis (Hep C+ with liver inflammation), 2=Fibrosis (Hep C+ with advanced liver damanage), 3= Cirrhosis (Hep C+ with liver failure)\n",
    "\n",
    "It will be interesting to investigate how well the model can accurately classify each participant's status based on their features (the multiple tests that are included in a liver function panel). On a broader scope, when abnormal liver function test values appear on a patient's results, it could potentially trigger Medical Providers to test for Hepatits C when it was previously not considered during an initial visit. "
   ]
  },
  {
   "cell_type": "code",
   "execution_count": 1,
   "id": "613956a4",
   "metadata": {},
   "outputs": [],
   "source": [
    "import numpy as np\n",
    "import pandas as pd\n",
    "import matplotlib.pyplot as plt\n",
    "import seaborn as sns\n",
    "from sklearn import tree\n",
    "from sklearn.model_selection import train_test_split\n",
    "from sklearn.model_selection import cross_val_score\n",
    "from sklearn.preprocessing import MinMaxScaler\n",
    "from sklearn.linear_model import LogisticRegression\n",
    "from sklearn.model_selection import train_test_split, cross_validate, GridSearchCV, learning_curve\n",
    "from sklearn.metrics import accuracy_score\n",
    "import scipy\n",
    "from sklearn import tree\n",
    "from IPython.display import Image\n",
    "%matplotlib inline\n",
    "from sklearn import preprocessing\n",
    "from sklearn.ensemble import GradientBoostingClassifier\n",
    "from sklearn.metrics import classification_report, confusion_matrix, roc_curve, auc\n",
    "from sklearn.preprocessing import StandardScaler\n",
    "from sklearn.ensemble import RandomForestClassifier\n",
    "\n",
    "\n"
   ]
  },
  {
   "cell_type": "code",
   "execution_count": 2,
   "id": "2d8e2398",
   "metadata": {},
   "outputs": [],
   "source": [
    "# Load the dataset\n",
    "df= pd.read_csv('HepC.csv')"
   ]
  },
  {
   "cell_type": "code",
   "execution_count": 3,
   "id": "1e992ada",
   "metadata": {},
   "outputs": [
    {
     "name": "stdout",
     "output_type": "stream",
     "text": [
      "['0=Blood Donor' '0s=suspect Blood Donor' '1=Hepatitis' '2=Fibrosis'\n",
      " '3=Cirrhosis']\n",
      "['m' 'f']\n"
     ]
    }
   ],
   "source": [
    "# Visualizing unique values in the object columns that will need to be transformed into dummy variables\n",
    "print(df['Category'].unique()) # whether a person is Hep C - or +; if + they are categoriezed into grades of liver damage 1-3\n",
    "\n",
    "print(df['Sex'].unique())"
   ]
  },
  {
   "cell_type": "code",
   "execution_count": 4,
   "id": "0c1907c5",
   "metadata": {},
   "outputs": [
    {
     "data": {
      "text/plain": [
       "Category_Numeric\n",
       "0    540\n",
       "3     28\n",
       "1     23\n",
       "2     21\n",
       "Name: count, dtype: int64"
      ]
     },
     "execution_count": 4,
     "metadata": {},
     "output_type": "execute_result"
    }
   ],
   "source": [
    "# Creating a dictionary to map Category values to numerical codes\n",
    "category_mapping = {\n",
    "    '0=Blood Donor': 0,\n",
    "    '0s=suspect Blood Donor': 0,\n",
    "    '1=Hepatitis': 1,\n",
    "    '2=Fibrosis': 2,\n",
    "    '3=Cirrhosis': 3\n",
    "}\n",
    "\n",
    "# Using .map to create a new column with numerical codes\n",
    "df['Category_Numeric'] = df['Category'].map(category_mapping)\n",
    "\n",
    "df['Category_Numeric'].value_counts()\n"
   ]
  },
  {
   "cell_type": "markdown",
   "id": "c3bd0600",
   "metadata": {},
   "source": [
    "Category 0 represents people who do NOT have Hepatitis C (Hep C negative). It makes up up about 75% of the data set. This is typical of the population where most people are Hep C negative and a small percent do have the virus. \n",
    "\n",
    "However, if the model is built on a heavily imbalanced data set it will not be reliable. This issue needs to be addressed to avoid the model missing the Hep C + patients. To do this we need to create a balanced data set by undersampling the majority category. "
   ]
  },
  {
   "cell_type": "markdown",
   "id": "62ff2c7e",
   "metadata": {},
   "source": [
    "### Creating a Balanced Data Set by Undersampling the Majority Category"
   ]
  },
  {
   "cell_type": "code",
   "execution_count": 5,
   "id": "abfc93b3",
   "metadata": {},
   "outputs": [
    {
     "name": "stdout",
     "output_type": "stream",
     "text": [
      "Category_Numeric\n",
      "3    28\n",
      "0    28\n",
      "1    23\n",
      "2    21\n",
      "Name: count, dtype: int64\n"
     ]
    }
   ],
   "source": [
    "from sklearn.utils import resample\n",
    "# Separate majority and minority classes\n",
    "df_majority = df[df.Category_Numeric == 0]\n",
    "df_minority_1 = df[df.Category_Numeric == 1]\n",
    "df_minority_2 = df[df.Category_Numeric == 2]\n",
    "df_minority_3 = df[df.Category_Numeric == 3]\n",
    "\n",
    "# Find the maximum count among the minority classes\n",
    "max_minority_count = max(len(df_minority_1), len(df_minority_2), len(df_minority_3))\n",
    "\n",
    "# Undersample the majority class to have the same number of samples as the max of minority class sizes\n",
    "df_majority_undersampled = resample(df_majority, \n",
    "                                    replace=False,    # sample without replacement\n",
    "                                    n_samples=max_minority_count, # to match max minority class size\n",
    "                                    random_state=42)  # reproducible results\n",
    "\n",
    "# Combine minority class with the undersampled majority class\n",
    "df_balanced = pd.concat([df_majority_undersampled, df_minority_1, df_minority_2, df_minority_3])\n",
    "\n",
    "# Shuffle the combined DataFrame\n",
    "df_balanced = df_balanced.sample(frac=1, random_state=42).reset_index(drop=True)\n",
    "\n",
    "# Use df_balanced for your model training\n",
    "print(df_balanced['Category_Numeric'].value_counts())"
   ]
  },
  {
   "cell_type": "code",
   "execution_count": 6,
   "id": "a59a3f61",
   "metadata": {},
   "outputs": [
    {
     "data": {
      "text/plain": [
       "Category       Age  Sex  ALB   ALT    AST    BIL   CHE   CREA   GGT    PROT  Category_Numeric\n",
       "0=Blood Donor  32   m    46.3  17.5   17.8   8.5   7.01  70.0   16.9   74.5  0                   1\n",
       "2=Fibrosis     54   m    41.0  41.5   187.9  21.0  8.59  91.0   104.9  79.1  2                   1\n",
       "3=Cirrhosis    39   m    34.0  4.8    35.6   9.0   3.65  519.0  133.4  57.5  3                   1\n",
       "               38   m    44.0  94.0   60.0   12.0  4.37  61.0   99.0   77.0  3                   1\n",
       "2=Fibrosis     75   f    36.0  114.0  125.0  14.0  6.65  57.0   177.0  72.0  2                   1\n",
       "                                                                                                ..\n",
       "1=Hepatitis    25   m    42.0  63.3   187.7  14.0  6.00  66.9   40.2   70.5  1                   1\n",
       "               23   m    47.0  38.9   164.2  17.0  7.09  79.3   90.4   70.1  1                   1\n",
       "               19   m    41.0  87.0   67.0   12.0  7.55  62.0   65.0   75.0  1                   1\n",
       "0=Blood Donor  65   m    43.1  43.1   35.6   9.5   9.60  78.0   21.9   71.5  0                   1\n",
       "3=Cirrhosis    74   m    23.0  2.1    90.4   22.0  2.50  51.0   46.8   57.1  3                   1\n",
       "Name: count, Length: 100, dtype: int64"
      ]
     },
     "execution_count": 6,
     "metadata": {},
     "output_type": "execute_result"
    }
   ],
   "source": [
    "df_balanced.head()\n",
    "df_balanced.value_counts()\n",
    "\n",
    "#The new df (df_balanced) has 100 participants evenly distributed between the different categories. "
   ]
  },
  {
   "cell_type": "markdown",
   "id": "d714a7bf",
   "metadata": {},
   "source": [
    "### Splitting and Training the Balanced Data Set"
   ]
  },
  {
   "cell_type": "code",
   "execution_count": 7,
   "id": "2d993951",
   "metadata": {},
   "outputs": [],
   "source": [
    "features = ['Age', 'ALB', 'ALT', 'AST', 'BIL', 'CHE', 'CREA',\n",
    "       'GGT', 'PROT']\n",
    "\n",
    "X = df_balanced[features]  # Features\n",
    "y = df_balanced['Category_Numeric']  # Target\n",
    "\n",
    "# Split the data into training and testing sets\n",
    "X_train, X_test, y_train, y_test = train_test_split(X, y, test_size=0.3, random_state=42)"
   ]
  },
  {
   "cell_type": "code",
   "execution_count": 8,
   "id": "61770146",
   "metadata": {},
   "outputs": [],
   "source": [
    "# Scale the data\n",
    "scaler = StandardScaler()\n",
    "X_train_scaled = scaler.fit_transform(X_train)\n",
    "X_test_scaled = scaler.transform(X_test)"
   ]
  },
  {
   "cell_type": "markdown",
   "id": "75498b3f",
   "metadata": {},
   "source": [
    "### 1A.) Gini Impurity Model "
   ]
  },
  {
   "cell_type": "code",
   "execution_count": 9,
   "id": "e93f1453",
   "metadata": {},
   "outputs": [
    {
     "name": "stdout",
     "output_type": "stream",
     "text": [
      "Gini Impurity Model\n",
      "Accuracy: 0.6\n",
      "Balanced accuracy: 0.5548340548340548\n",
      "Precision score: 0.6152777777777777\n",
      "Recall score: 0.6\n",
      "F1 score: 0.5991994478950999\n"
     ]
    }
   ],
   "source": [
    "from sklearn.tree import DecisionTreeClassifier\n",
    "from sklearn.metrics import accuracy_score, balanced_accuracy_score, precision_score, recall_score, f1_score\n",
    "\n",
    "\n",
    "gini_model = DecisionTreeClassifier(criterion='gini', random_state=42)\n",
    "\n",
    "# Fit the model to the training data\n",
    "gini_model.fit(X_train_scaled, y_train)\n",
    "\n",
    "# Predict on the test set\n",
    "y_pred_gini = gini_model.predict(X_test_scaled)\n",
    "\n",
    "# Evaluate the model\n",
    "print(\"Gini Impurity Model\")\n",
    "print(\"Accuracy:\", accuracy_score(y_test, y_pred_gini))\n",
    "print(\"Balanced accuracy:\", balanced_accuracy_score(y_test, y_pred_gini))\n",
    "print('Precision score:', precision_score(y_test, y_pred_gini, average='weighted'))\n",
    "print('Recall score:', recall_score(y_test, y_pred_gini, average='weighted'))\n",
    "print('F1 score:', f1_score(y_test, y_pred_gini, average='weighted'))"
   ]
  },
  {
   "cell_type": "markdown",
   "id": "a844d871",
   "metadata": {},
   "source": [
    "### 1B.) Grid Search on Gini Impurity Model "
   ]
  },
  {
   "cell_type": "code",
   "execution_count": 10,
   "id": "644ae0ca",
   "metadata": {},
   "outputs": [
    {
     "name": "stdout",
     "output_type": "stream",
     "text": [
      "Fitting 5 folds for each of 45 candidates, totalling 225 fits\n",
      "Best Gini Impurity Model\n",
      "Best parameters found:  {'max_depth': 5, 'min_samples_leaf': 4, 'min_samples_split': 2}\n"
     ]
    }
   ],
   "source": [
    "from sklearn.model_selection import GridSearchCV\n",
    "from sklearn.tree import DecisionTreeClassifier\n",
    "from sklearn.metrics import accuracy_score, balanced_accuracy_score, precision_score, recall_score, f1_score\n",
    "\n",
    "# Define the parameter grid\n",
    "param_grid = {\n",
    "    'max_depth': [3, 5, 7, 9, 11],\n",
    "    'min_samples_split': [2, 5, 10],\n",
    "    'min_samples_leaf': [1, 2, 4]\n",
    "}\n",
    "\n",
    "# Initialize the Decision Tree model\n",
    "gini_model = DecisionTreeClassifier(criterion='gini', random_state=42)\n",
    "\n",
    "# Set up the GridSearchCV\n",
    "grid_search = GridSearchCV(estimator=gini_model, param_grid=param_grid, cv=5, scoring='f1_weighted', n_jobs=-1, verbose=2)\n",
    "\n",
    "# Fit the grid search to the training data\n",
    "grid_search.fit(X_train_scaled, y_train)\n",
    "\n",
    "# Get the best estimator\n",
    "best_gini_model = grid_search.best_estimator_\n",
    "\n",
    "# Predict on the test set\n",
    "y_pred_gini_best = best_gini_model.predict(X_test_scaled)\n",
    "\n",
    "# Evaluate the best model\n",
    "print(\"Best Gini Impurity Model\")\n",
    "print(\"Best parameters found: \", grid_search.best_params_)\n",
    "\n"
   ]
  },
  {
   "cell_type": "markdown",
   "id": "85cfa7f9",
   "metadata": {},
   "source": [
    "### 1C.) Gini Impurity with Parameter Tuning"
   ]
  },
  {
   "cell_type": "code",
   "execution_count": 43,
   "id": "559fc718",
   "metadata": {},
   "outputs": [
    {
     "name": "stdout",
     "output_type": "stream",
     "text": [
      "Gini Impurity Model\n",
      "Accuracy: 0.6\n",
      "Balanced accuracy: 0.5548340548340548\n",
      "Precision score: 0.6089285714285714\n",
      "Recall score: 0.6\n",
      "F1 score: 0.6007936507936509\n"
     ]
    },
    {
     "data": {
      "image/png": "[encoded data removed]",
      "text/plain": [
       "<Figure size 400x200 with 2 Axes>"
      ]
     },
     "metadata": {},
     "output_type": "display_data"
    }
   ],
   "source": [
    "gini_model = DecisionTreeClassifier(criterion='gini', max_depth=5, min_samples_leaf=4, min_samples_split=2, random_state=42)\n",
    "\n",
    "# Fit the model to the training data\n",
    "gini_model.fit(X_train_scaled, y_train)\n",
    "\n",
    "# Predict on the test set\n",
    "y_pred_gini = gini_model.predict(X_test_scaled)\n",
    "\n",
    "# Evaluate the model\n",
    "print(\"Gini Impurity Model\")\n",
    "print(\"Accuracy:\", accuracy_score(y_test, y_pred_gini))\n",
    "print(\"Balanced accuracy:\", balanced_accuracy_score(y_test, y_pred_gini))\n",
    "print('Precision score:', precision_score(y_test, y_pred_gini, average='weighted'))\n",
    "print('Recall score:', recall_score(y_test, y_pred_gini, average='weighted'))\n",
    "print('F1 score:', f1_score(y_test, y_pred_gini, average='weighted'))\n",
    "\n",
    "\n",
    "\n",
    "# Generate the confusion matrix\n",
    "cm = confusion_matrix(y_test, y_pred_gini)\n",
    "\n",
    "# Plot the confusion matrix\n",
    "plt.figure(figsize=(4, 2))\n",
    "sns.heatmap(cm, annot=True, fmt='d', cmap='Blues', xticklabels=np.unique(y_test), yticklabels=np.unique(y_test))\n",
    "plt.xlabel('Predicted')\n",
    "plt.ylabel('Actual')\n",
    "plt.title('Confusion Matrix for Gini Impurity Model')\n",
    "plt.show()"
   ]
  },
  {
   "cell_type": "markdown",
   "id": "b3002d1f",
   "metadata": {},
   "source": [
    "### 1D.) Cross Validation "
   ]
  },
  {
   "cell_type": "code",
   "execution_count": 96,
   "id": "919a25eb",
   "metadata": {},
   "outputs": [
    {
     "name": "stdout",
     "output_type": "stream",
     "text": [
      "Cross-validation scores: [0.6  0.7  0.45 0.7  0.55]\n",
      "Mean cross-validation score: 0.6\n",
      "Standard deviation of cross-validation scores: 0.09486832980505136\n"
     ]
    }
   ],
   "source": [
    "from sklearn.model_selection import cross_val_score\n",
    "\n",
    "# Perform cross-validation\n",
    "cv_scores = cross_val_score(gini_model, X, y, cv=5)  # 5-fold cross-validation\n",
    "\n",
    "# Print cross-validation scores\n",
    "print(\"Cross-validation scores:\", cv_scores)\n",
    "print(\"Mean cross-validation score:\", cv_scores.mean())\n",
    "print(\"Standard deviation of cross-validation scores:\", cv_scores.std())\n"
   ]
  },
  {
   "cell_type": "markdown",
   "id": "7222db2a",
   "metadata": {},
   "source": [
    "### 2A.) Entropy Model"
   ]
  },
  {
   "cell_type": "code",
   "execution_count": 97,
   "id": "a276276d",
   "metadata": {},
   "outputs": [
    {
     "name": "stdout",
     "output_type": "stream",
     "text": [
      "Entropy Model\n",
      "Accuracy: 0.5666666666666667\n",
      "Balanced accuracy: 0.5905483405483406\n",
      "Precision score: 0.6441077441077441\n",
      "Recall score: 0.5666666666666667\n",
      "F1 score: 0.5719047619047619\n"
     ]
    }
   ],
   "source": [
    "from sklearn.tree import DecisionTreeClassifier\n",
    "from sklearn.metrics import accuracy_score, balanced_accuracy_score, precision_score, recall_score, f1_score\n",
    "\n",
    "# Create the Entropy model\n",
    "entropy_model = DecisionTreeClassifier(criterion='entropy', random_state=42)\n",
    "\n",
    "# Fit the model to the training data\n",
    "entropy_model.fit(X_train_scaled, y_train)\n",
    "\n",
    "# Predict on the test set\n",
    "y_pred_entropy = entropy_model.predict(X_test_scaled)\n",
    "\n",
    "# Evaluate the model\n",
    "print(\"Entropy Model\")\n",
    "print(\"Accuracy:\", accuracy_score(y_test, y_pred_entropy))\n",
    "print(\"Balanced accuracy:\", balanced_accuracy_score(y_test, y_pred_entropy))\n",
    "print('Precision score:', precision_score(y_test, y_pred_entropy, average='weighted', zero_division=0))\n",
    "print('Recall score:', recall_score(y_test, y_pred_entropy, average='weighted', zero_division=0))\n",
    "print('F1 score:', f1_score(y_test, y_pred_entropy, average='weighted', zero_division=0))\n",
    "\n"
   ]
  },
  {
   "cell_type": "markdown",
   "id": "08772914",
   "metadata": {},
   "source": [
    "### 2B.) Grid Search on Entropy Model"
   ]
  },
  {
   "cell_type": "code",
   "execution_count": 98,
   "id": "116618dc",
   "metadata": {},
   "outputs": [
    {
     "name": "stdout",
     "output_type": "stream",
     "text": [
      "Best Entropy Model\n",
      "Best parameters found:  DecisionTreeClassifier(criterion='entropy', max_depth=5, min_samples_leaf=4,\n",
      "                       random_state=42)\n"
     ]
    }
   ],
   "source": [
    "from sklearn.tree import DecisionTreeClassifier\n",
    "from sklearn.model_selection import GridSearchCV\n",
    "from sklearn.metrics import accuracy_score, balanced_accuracy_score, precision_score, recall_score, f1_score\n",
    "\n",
    "# Define the Decision Tree model with entropy criterion\n",
    "dt_model = DecisionTreeClassifier(criterion='entropy', random_state=42)\n",
    "\n",
    "# Define the parameter grid\n",
    "param_grid = {\n",
    "    'max_depth': [3, 5, 7, 10, 15],\n",
    "    'min_samples_split': [2, 5, 10],\n",
    "    'min_samples_leaf': [1, 2, 4]\n",
    "}\n",
    "\n",
    "# Setup Grid Search with cross-validation\n",
    "grid_search = GridSearchCV(estimator=dt_model, param_grid=param_grid, cv=5, scoring='accuracy', n_jobs=-1)\n",
    "\n",
    "# Fit Grid Search\n",
    "grid_search.fit(X_train_scaled, y_train)\n",
    "\n",
    "# Get the best model from grid search\n",
    "best_dt_model = grid_search.best_estimator_\n",
    "\n",
    "# Predict on the test set\n",
    "y_pred_best_dt = best_dt_model.predict(X_test_scaled)\n",
    "\n",
    "# Evaluate the best model\n",
    "print(\"Best Entropy Model\")\n",
    "print(\"Best parameters found: \", best_dt_model)\n"
   ]
  },
  {
   "cell_type": "markdown",
   "id": "7c8be03d",
   "metadata": {},
   "source": [
    "### 2C.) Entropy Model with Parameter Tuning"
   ]
  },
  {
   "cell_type": "code",
   "execution_count": 99,
   "id": "4e95b71f",
   "metadata": {},
   "outputs": [
    {
     "name": "stdout",
     "output_type": "stream",
     "text": [
      "Entropy Model\n",
      "Accuracy: 0.6\n",
      "Balanced accuracy: 0.6053391053391054\n",
      "Precision score: 0.7033333333333334\n",
      "Recall score: 0.6\n",
      "F1 score: 0.6252136752136752\n"
     ]
    },
    {
     "data": {
      "image/png": "[encoded data removed]",
      "text/plain": [
       "<Figure size 400x200 with 2 Axes>"
      ]
     },
     "metadata": {},
     "output_type": "display_data"
    }
   ],
   "source": [
    "from sklearn.tree import DecisionTreeClassifier\n",
    "from sklearn.metrics import accuracy_score, balanced_accuracy_score, precision_score, recall_score, f1_score\n",
    "\n",
    "# Create the Entropy model\n",
    "entropy_model = DecisionTreeClassifier(criterion='entropy', max_depth=5, min_samples_leaf=4, random_state=42)\n",
    "\n",
    "# Fit the model to the training data\n",
    "entropy_model.fit(X_train_scaled, y_train)\n",
    "\n",
    "# Predict on the test set\n",
    "y_pred_entropy = entropy_model.predict(X_test_scaled)\n",
    "\n",
    "\n",
    "# Evaluate the model\n",
    "print(\"Entropy Model\")\n",
    "print(\"Accuracy:\", accuracy_score(y_test, y_pred_entropy))\n",
    "print(\"Balanced accuracy:\", balanced_accuracy_score(y_test, y_pred_entropy))\n",
    "print('Precision score:', precision_score(y_test, y_pred_entropy, average='weighted', zero_division=0))\n",
    "print('Recall score:', recall_score(y_test, y_pred_entropy, average='weighted', zero_division=0))\n",
    "print('F1 score:', f1_score(y_test, y_pred_entropy, average='weighted', zero_division=0))\n",
    "\n",
    "\n",
    "\n",
    "# Generate the confusion matrix\n",
    "cm_entropy = confusion_matrix(y_test, y_pred_entropy)\n",
    "\n",
    "# Plot the confusion matrix\n",
    "plt.figure(figsize=(4,2))\n",
    "sns.heatmap(cm_entropy, annot=True, fmt='d', cmap='Blues', xticklabels=np.unique(y_test), yticklabels=np.unique(y_test))\n",
    "plt.xlabel('Predicted')\n",
    "plt.ylabel('Actual')\n",
    "plt.title('Confusion Matrix for Entropy Model')\n",
    "plt.show() "
   ]
  },
  {
   "cell_type": "markdown",
   "id": "64eb2d35",
   "metadata": {},
   "source": [
    "### 3A.) Random Forest"
   ]
  },
  {
   "cell_type": "code",
   "execution_count": 100,
   "id": "2260ee38",
   "metadata": {},
   "outputs": [
    {
     "name": "stdout",
     "output_type": "stream",
     "text": [
      "Random Forest Model\n",
      "Accuracy: 0.6666666666666666\n",
      "Balanced accuracy: 0.6082251082251082\n",
      "Precision score: 0.7237179487179487\n",
      "Recall score: 0.6666666666666666\n",
      "F1 score: 0.6662393162393163\n"
     ]
    }
   ],
   "source": [
    "from sklearn.ensemble import RandomForestClassifier\n",
    "from sklearn.metrics import accuracy_score, balanced_accuracy_score, precision_score, recall_score, f1_score\n",
    "\n",
    "# Initialize the Random Forest model\n",
    "rf_model = RandomForestClassifier(n_estimators=100, max_depth=10, random_state=42)\n",
    "\n",
    "# Fit the model to the training data\n",
    "rf_model.fit(X_train, y_train)\n",
    "\n",
    "# Predict on the test data\n",
    "y_pred_rf = rf_model.predict(X_test)\n",
    "\n",
    "# Evaluate the model\n",
    "print(\"Random Forest Model\")\n",
    "print(\"Accuracy:\", accuracy_score(y_test, y_pred_rf))\n",
    "print(\"Balanced accuracy:\", balanced_accuracy_score(y_test, y_pred_rf))\n",
    "print('Precision score:', precision_score(y_test, y_pred_rf, average='weighted', zero_division=0))\n",
    "print('Recall score:', recall_score(y_test, y_pred_rf, average='weighted', zero_division=0))\n",
    "print('F1 score:', f1_score(y_test, y_pred_rf, average='weighted', zero_division=0))\n"
   ]
  },
  {
   "cell_type": "markdown",
   "id": "5c7eb414",
   "metadata": {},
   "source": [
    "### 3B.) Grid Search on Random Forest"
   ]
  },
  {
   "cell_type": "code",
   "execution_count": 101,
   "id": "61e1a8fc",
   "metadata": {},
   "outputs": [
    {
     "name": "stdout",
     "output_type": "stream",
     "text": [
      "Best RF Model\n",
      "Best parameters found:  RandomForestClassifier(n_estimators=50, random_state=42)\n"
     ]
    }
   ],
   "source": [
    "from sklearn.ensemble import RandomForestClassifier\n",
    "from sklearn.model_selection import GridSearchCV\n",
    "from sklearn.metrics import accuracy_score, balanced_accuracy_score, precision_score, recall_score, f1_score\n",
    "\n",
    "# Define the Random Forest model\n",
    "rf_model = RandomForestClassifier(random_state=42)\n",
    "\n",
    "# Define the parameter grid\n",
    "param_grid = {\n",
    "    'n_estimators': [50, 100, 200],\n",
    "    'max_depth': [None, 10, 20, 30],\n",
    "    'min_samples_split': [2, 5, 10],\n",
    "    'min_samples_leaf': [1, 2, 4],\n",
    "    'bootstrap': [True, False]\n",
    "}\n",
    "\n",
    "# Setup Grid Search with cross-validation\n",
    "grid_search = GridSearchCV(estimator=rf_model, param_grid=param_grid, cv=5, scoring='accuracy', n_jobs=-1)\n",
    "\n",
    "# Fit Grid Search\n",
    "grid_search.fit(X_train, y_train)\n",
    "\n",
    "# Get the best model from grid search\n",
    "best_rf_model = grid_search.best_estimator_\n",
    "\n",
    "\n",
    "print(\"Best RF Model\")\n",
    "print(\"Best parameters found: \", best_rf_model)\n"
   ]
  },
  {
   "cell_type": "markdown",
   "id": "eed649e8",
   "metadata": {},
   "source": [
    "### 3C.) Random Forest with Parameter Tuning"
   ]
  },
  {
   "cell_type": "code",
   "execution_count": 51,
   "id": "8ad7793f",
   "metadata": {},
   "outputs": [
    {
     "name": "stdout",
     "output_type": "stream",
     "text": [
      "Random Forest Model\n",
      "Accuracy: 0.6666666666666666\n",
      "Balanced accuracy: 0.6082251082251082\n",
      "Precision score: 0.7237179487179487\n",
      "Recall score: 0.6666666666666666\n",
      "F1 score: 0.6662393162393163\n"
     ]
    },
    {
     "data": {
      "image/png": "[encoded data removed]",
      "text/plain": [
       "<Figure size 400x200 with 2 Axes>"
      ]
     },
     "metadata": {},
     "output_type": "display_data"
    }
   ],
   "source": [
    "# Initialize the Random Forest model\n",
    "rf_model = RandomForestClassifier(n_estimators=50, max_depth=10,random_state=42)\n",
    "\n",
    "# Fit the model to the training data\n",
    "rf_model.fit(X_train, y_train)\n",
    "\n",
    "# Predict on the test data\n",
    "y_pred_rf = rf_model.predict(X_test)\n",
    "\n",
    "# Evaluate the model\n",
    "print(\"Random Forest Model\")\n",
    "print(\"Accuracy:\", accuracy_score(y_test, y_pred_rf))\n",
    "print(\"Balanced accuracy:\", balanced_accuracy_score(y_test, y_pred_rf))\n",
    "print('Precision score:', precision_score(y_test, y_pred_rf, average='weighted', zero_division=0))\n",
    "print('Recall score:', recall_score(y_test, y_pred_rf, average='weighted', zero_division=0))\n",
    "print('F1 score:', f1_score(y_test, y_pred_rf, average='weighted', zero_division=0))\n",
    "\n",
    "# Generate the confusion matrix\n",
    "cm_rf = confusion_matrix(y_test, y_pred_rf)\n",
    "\n",
    "# Plot the confusion matrix\n",
    "plt.figure(figsize=(4,2))\n",
    "sns.heatmap(cm_rf, annot=True, fmt='d', cmap='Blues', xticklabels=np.unique(y_test), yticklabels=np.unique(y_test))\n",
    "plt.xlabel('Predicted')\n",
    "plt.ylabel('Actual')\n",
    "plt.title('Confusion Matrix for Random Forest Model')\n",
    "plt.show()"
   ]
  },
  {
   "cell_type": "markdown",
   "id": "0746b2ad",
   "metadata": {},
   "source": [
    "### 4A.) Support Vector Model"
   ]
  },
  {
   "cell_type": "code",
   "execution_count": 102,
   "id": "3c834ee2",
   "metadata": {},
   "outputs": [
    {
     "name": "stdout",
     "output_type": "stream",
     "text": [
      "Support Vector Machine Model\n",
      "Accuracy: 0.7333333333333333\n",
      "Balanced accuracy: 0.7193362193362193\n",
      "Precision score: 0.8341269841269842\n",
      "Recall score: 0.7333333333333333\n",
      "F1 score: 0.7434559643255294\n"
     ]
    }
   ],
   "source": [
    "from sklearn.svm import SVC\n",
    "from sklearn.metrics import accuracy_score, balanced_accuracy_score, precision_score, recall_score, f1_score\n",
    "\n",
    "# Define the SVM model\n",
    "svm_model = SVC(random_state=42, probability=True)  # Set probability=True to use predict_proba for ROC curve\n",
    "\n",
    "# Fit the model to the training data\n",
    "svm_model.fit(X_train_scaled, y_train)\n",
    "\n",
    "# Predict on the test data\n",
    "y_pred_svm = svm_model.predict(X_test_scaled)\n",
    "\n",
    "# Evaluate the model\n",
    "print(\"Support Vector Machine Model\")\n",
    "print(\"Accuracy:\", accuracy_score(y_test, y_pred_svm))\n",
    "print(\"Balanced accuracy:\", balanced_accuracy_score(y_test, y_pred_svm))\n",
    "print('Precision score:', precision_score(y_test, y_pred_svm, average='weighted', zero_division=0))\n",
    "print('Recall score:', recall_score(y_test, y_pred_svm, average='weighted', zero_division=0))\n",
    "print('F1 score:', f1_score(y_test, y_pred_svm, average='weighted', zero_division=0))\n"
   ]
  },
  {
   "cell_type": "markdown",
   "id": "bee0ff43",
   "metadata": {},
   "source": [
    "### 4B.)Grid Search Support Vector Model "
   ]
  },
  {
   "cell_type": "code",
   "execution_count": 103,
   "id": "a67f516e",
   "metadata": {},
   "outputs": [
    {
     "name": "stdout",
     "output_type": "stream",
     "text": [
      "SVC(C=1, gamma=1, kernel='linear', probability=True, random_state=42)\n"
     ]
    }
   ],
   "source": [
    "# Define the parameter grid for Grid Search\n",
    "param_grid = {\n",
    "    'C': [0.1, 1, 10, 100],             # Regularization parameter\n",
    "    'kernel': ['linear', 'rbf', 'poly'], # Kernel type\n",
    "    'gamma': [1,0.1,0.01,0.001]           \n",
    "}\n",
    "\n",
    "# Setup Grid Search with cross-validation\n",
    "grid_search = GridSearchCV(estimator=svm_model, param_grid=param_grid, cv=5, scoring='accuracy', n_jobs=-1)\n",
    "\n",
    "# Fit Grid Search\n",
    "grid_search.fit(X_train, y_train)\n",
    "\n",
    "# Get the best model from grid search\n",
    "best_svm_model = grid_search.best_estimator_\n",
    "\n",
    "\n",
    "print(best_svm_model)"
   ]
  },
  {
   "cell_type": "code",
   "execution_count": 74,
   "id": "d6ff504f",
   "metadata": {},
   "outputs": [
    {
     "name": "stdout",
     "output_type": "stream",
     "text": [
      "Support Vector Machine Model\n",
      "Accuracy: 0.8\n",
      "Balanced accuracy: 0.7698412698412699\n",
      "Precision score: 0.8335897435897436\n",
      "Recall score: 0.8\n",
      "F1 score: 0.8014957264957264\n"
     ]
    },
    {
     "data": {
      "image/png": "[encoded data removed]",
      "text/plain": [
       "<Figure size 400x200 with 2 Axes>"
      ]
     },
     "metadata": {},
     "output_type": "display_data"
    }
   ],
   "source": [
    "# Define the SVM model\n",
    "svm_model = SVC(C=2, kernel='sigmoid', probability=True, random_state=42)  # Set probability=True to use predict_proba for ROC curve\n",
    "\n",
    "# Fit the model to the training data\n",
    "svm_model.fit(X_train_scaled, y_train)\n",
    "\n",
    "# Predict on the test data\n",
    "y_pred_svm = svm_model.predict(X_test_scaled)\n",
    "\n",
    "# Evaluate the model\n",
    "print(\"Support Vector Machine Model\")\n",
    "print(\"Accuracy:\", accuracy_score(y_test, y_pred_svm))\n",
    "print(\"Balanced accuracy:\", balanced_accuracy_score(y_test, y_pred_svm))\n",
    "print('Precision score:', precision_score(y_test, y_pred_svm, average='weighted', zero_division=0))\n",
    "print('Recall score:', recall_score(y_test, y_pred_svm, average='weighted', zero_division=0))\n",
    "print('F1 score:', f1_score(y_test, y_pred_svm, average='weighted', zero_division=0))\n",
    "\n",
    "\n",
    "# Generate the confusion matrix\n",
    "cm_svm = confusion_matrix(y_test, y_pred_svm)\n",
    "\n",
    "# Plot the confusion matrix\n",
    "plt.figure(figsize=(4,2))\n",
    "sns.heatmap(cm_svm, annot=True, fmt='d', cmap='Blues', xticklabels=np.unique(y_test), yticklabels=np.unique(y_test))\n",
    "plt.xlabel('Predicted')\n",
    "plt.ylabel('Actual')\n",
    "plt.title('Confusion Matrix for SVM Model')\n",
    "plt.show()"
   ]
  },
  {
   "cell_type": "code",
   "execution_count": 104,
   "id": "4b42c7d5",
   "metadata": {},
   "outputs": [
    {
     "name": "stdout",
     "output_type": "stream",
     "text": [
      "Cross-validation scores: [0.57142857 0.64285714 0.64285714 0.5        0.92857143]\n",
      "Mean cross-validation score: 0.6571428571428571\n",
      "Standard deviation of cross-validation scores: 0.14568627181693672\n"
     ]
    }
   ],
   "source": [
    "# Cross-validation\n",
    "cv_scores = cross_val_score(svm_model, X_train_scaled, y_train, cv=5, scoring='accuracy')\n",
    "\n",
    "# Print cross-validation results\n",
    "print(\"Cross-validation scores:\", cv_scores)\n",
    "print(\"Mean cross-validation score:\", np.mean(cv_scores))\n",
    "print(\"Standard deviation of cross-validation scores:\", np.std(cv_scores))"
   ]
  },
  {
   "cell_type": "code",
   "execution_count": 83,
   "id": "7cf9b49e",
   "metadata": {},
   "outputs": [
    {
     "name": "stdout",
     "output_type": "stream",
     "text": [
      "  Features  Importance scores\n",
      "3      AST           0.176667\n",
      "5      CHE           0.140000\n",
      "1      ALB           0.136667\n",
      "0      Age           0.123333\n",
      "7      GGT           0.106667\n",
      "6     CREA           0.090000\n",
      "8     PROT           0.083333\n",
      "2      ALT           0.050000\n",
      "4      BIL           0.030000\n"
     ]
    },
    {
     "data": {
      "image/png": "[encoded data removed]",
      "text/plain": [
       "<Figure size 500x300 with 1 Axes>"
      ]
     },
     "metadata": {},
     "output_type": "display_data"
    }
   ],
   "source": [
    "from sklearn.inspection import permutation_importance\n",
    "\n",
    "# Compute permutation feature importance\n",
    "perm_importance = permutation_importance(svm_model, X_test_scaled, y_test, n_repeats=10, random_state=42)\n",
    "\n",
    "# DataFrame with feature names and their importance scores\n",
    "features = X_train.columns  # column names from the training data\n",
    "importances = perm_importance.importances_mean\n",
    "tab = pd.DataFrame(list(zip(features, importances)), columns=['Features', 'Importance scores'])\n",
    "tab = tab.sort_values(by='Importance scores', ascending=False)  # Sort by importance\n",
    "\n",
    "# Print the DataFrame\n",
    "print(tab)\n",
    "\n",
    "# Visual comparison\n",
    "plt.figure(figsize=(5,3))\n",
    "\n",
    "# Sort indices by feature importance\n",
    "indices = np.argsort(importances)\n",
    "sorted_features = [features[i] for i in indices]\n",
    "sorted_importances = [importances[i] for i in indices]\n",
    "\n",
    "plt.barh(sorted_features, sorted_importances, align='center', color='g')\n",
    "plt.xlabel('Relative Importance', fontsize=15)\n",
    "plt.ylabel('Features', fontsize=15)\n",
    "plt.title('Feature Importances for SVM Model', fontsize=15)\n",
    "plt.savefig(\"feature_importances_svm.png\")\n",
    "plt.show()\n"
   ]
  },
  {
   "cell_type": "markdown",
   "id": "ffada559",
   "metadata": {},
   "source": [
    "### Model Analysis and Comparison\n",
    "    \n"
   ]
  },
  {
   "cell_type": "markdown",
   "id": "15b39a49",
   "metadata": {},
   "source": [
    "The Support Vector Model outperforms the Decision Trees and Random Forest models. Having an 80% accuracy demonstrates that it has moderate overall performance but could use improvement with techniques utilizing enhanced parameter tuning, ensemble methods, and/or using SMOTE to help balance the data set. Per the confusion matrix linked to the Support Vector Model, it demonstrated strength in being able to classify class 0 and class 3. This makes sense since the lab results of a person without Hepatitis C and a person WITH Hepatitis C (in liver failure) would depict a drastic difference. Therefore, the model could be rebuilt to perform binary classification instead of multi classification and would potentially yield better results. "
   ]
  }
 ],
 "metadata": {
  "kernelspec": {
   "display_name": "Python 3 (ipykernel)",
   "language": "python",
   "name": "python3"
  },
  "language_info": {
   "codemirror_mode": {
    "name": "ipython",
    "version": 3
   },
   "file_extension": ".py",
   "mimetype": "text/x-python",
   "name": "python",
   "nbconvert_exporter": "python",
   "pygments_lexer": "ipython3",
   "version": "3.11.5"
  }
 },
 "nbformat": 4,
 "nbformat_minor": 5
}
