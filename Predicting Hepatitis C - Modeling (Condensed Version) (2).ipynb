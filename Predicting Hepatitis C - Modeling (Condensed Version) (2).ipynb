{
 "cells": [
  {
   "cell_type": "markdown",
   "id": "e093f0b3",
   "metadata": {},
   "source": [
    "# Predicting Hepatitis C- Modeling "
   ]
  },
  {
   "cell_type": "markdown",
   "id": "6f5e769f",
   "metadata": {},
   "source": [
    "#### Independent Capstone: Springboard Data Science Career Track\n",
    "Notebook by Naomi Lopez\n"
   ]
  },
  {
   "cell_type": "markdown",
   "id": "b1cd3239",
   "metadata": {},
   "source": [
    "The Goal of this project is to build a model that can effectively classify Hepatitis C status and severity from a data set of liver functional panel tests. Hepatitis C is a virus known to cause liver damage, cancer, and can lead to irreversible liver failure. It is commonsly spread through blood to blood contact with an infected person- most commonly by sharing needles used in intravenous drug use/ other methods used to inject drugs or in rare cases via blood transfusion. Other less commmon methods of transmission are sexual or with nicks or cuts caused by sharing nail clippers and/or tooth brushes with an infected person. There is a cure for Hepatitis C with a 95% effectiveness rate however many people go unscreened and pass the disease to others before receiving a diagnosis. \n",
    "\n",
    "A liver function panel test is a routine blood panel that is commonly completed at annual physical exams. Medical providers will order it to determine the internal state of the liver and is helpful in diagnosing a variety of internal conditions. Currently, the CDC recommends testing for Hepatitis C once in a persons life after age 18 or older. However, if a person were to test negative once and contract Hepatitis C later in life it may not register for a provider to screen again. \n",
    "\n",
    "The data set categories each patient into four categoreis, 0= Blood donor (hep c negative), 0s= Suspected Blood Donor (hep c negative), 1=Hepatitis (Hep C+ with liver inflammation), 2=Fibrosis (Hep C+ with advanced liver damanage), 3= Cirrhosis (Hep C+ with liver failure)\n",
    "\n",
    "It will be interesting to investigate how well the model can accurately classify each participant's status based on their features (the multiple tests that are included in a liver function panel). On a broader scope, when abnormal liver function test values appear on a patient's results, it could potentially trigger Medical Providers to test for Hepatits C when it was previously not considered during an initial visit. "
   ]
  },
  {
   "cell_type": "code",
   "execution_count": 21,
   "id": "613956a4",
   "metadata": {},
   "outputs": [],
   "source": [
    "import numpy as np\n",
    "import pandas as pd\n",
    "import matplotlib.pyplot as plt\n",
    "import seaborn as sns\n",
    "from sklearn import tree\n",
    "from sklearn.model_selection import train_test_split\n",
    "from sklearn.model_selection import cross_val_score\n",
    "from sklearn.preprocessing import MinMaxScaler\n",
    "from sklearn.linear_model import LogisticRegression\n",
    "from sklearn.model_selection import train_test_split, cross_validate, GridSearchCV, learning_curve\n",
    "from sklearn.metrics import accuracy_score\n",
    "import scipy\n",
    "from sklearn import tree\n",
    "from IPython.display import Image\n",
    "%matplotlib inline\n",
    "from sklearn import preprocessing\n",
    "from sklearn.ensemble import GradientBoostingClassifier\n",
    "from sklearn.metrics import classification_report, confusion_matrix, roc_curve, auc\n",
    "from sklearn.preprocessing import StandardScaler\n",
    "from sklearn.ensemble import RandomForestClassifier\n",
    "\n",
    "\n"
   ]
  },
  {
   "cell_type": "code",
   "execution_count": 22,
   "id": "2d8e2398",
   "metadata": {},
   "outputs": [],
   "source": [
    "# Load the dataset\n",
    "df= pd.read_csv('HepC.csv')"
   ]
  },
  {
   "cell_type": "code",
   "execution_count": 23,
   "id": "1e992ada",
   "metadata": {},
   "outputs": [
    {
     "name": "stdout",
     "output_type": "stream",
     "text": [
      "['0=Blood Donor' '0s=suspect Blood Donor' '1=Hepatitis' '2=Fibrosis'\n",
      " '3=Cirrhosis']\n",
      "['m' 'f']\n"
     ]
    }
   ],
   "source": [
    "# Visualizing unique values in the object columns that will need to be transformed into dummy variables\n",
    "print(df['Category'].unique()) # whether a person is Hep C - or +; if + they are categoriezed into grades of liver damage 1-3\n",
    "\n",
    "print(df['Sex'].unique())"
   ]
  },
  {
   "cell_type": "code",
   "execution_count": 26,
   "id": "0c1907c5",
   "metadata": {},
   "outputs": [
    {
     "data": {
      "text/plain": [
       "Category_Numeric\n",
       "0    540\n",
       "3     28\n",
       "1     23\n",
       "2     21\n",
       "Name: count, dtype: int64"
      ]
     },
     "execution_count": 26,
     "metadata": {},
     "output_type": "execute_result"
    }
   ],
   "source": [
    "# Creating a dictionary to map Category values to numerical codes\n",
    "category_mapping = {\n",
    "    '0=Blood Donor': 0,\n",
    "    '0s=suspect Blood Donor': 0,\n",
    "    '1=Hepatitis': 1,\n",
    "    '2=Fibrosis': 2,\n",
    "    '3=Cirrhosis': 3\n",
    "}\n",
    "\n",
    "# Using .map to create a new column with numerical codes\n",
    "df['Category_Numeric'] = df['Category'].map(category_mapping)\n",
    "\n",
    "df['Category_Numeric'].value_counts()\n"
   ]
  },
  {
   "cell_type": "markdown",
   "id": "c3bd0600",
   "metadata": {},
   "source": [
    "Category 0 represents people who do NOT have Hepatitis C (Hep C negative). It makes up up about 75% of the data set. This is typical of the population where most people are Hep C negative and a small percent do have the virus. \n",
    "\n",
    "However, if the model is built on a heavily imbalanced data set, it will not be reliable. This issue needs to be addressed to avoid the model missing the Hep C + patients. To do this we need to create a balanced data set by undersampling the majority category. "
   ]
  },
  {
   "cell_type": "markdown",
   "id": "62ff2c7e",
   "metadata": {},
   "source": [
    "### Creating a Balanced Data Set by Undersampling the Majority Category"
   ]
  },
  {
   "cell_type": "code",
   "execution_count": 27,
   "id": "abfc93b3",
   "metadata": {},
   "outputs": [
    {
     "name": "stdout",
     "output_type": "stream",
     "text": [
      "Category_Numeric\n",
      "3    28\n",
      "0    28\n",
      "1    23\n",
      "2    21\n",
      "Name: count, dtype: int64\n"
     ]
    }
   ],
   "source": [
    "from sklearn.utils import resample\n",
    "# Separate majority and minority classes\n",
    "df_majority = df[df.Category_Numeric == 0]\n",
    "df_minority_1 = df[df.Category_Numeric == 1]\n",
    "df_minority_2 = df[df.Category_Numeric == 2]\n",
    "df_minority_3 = df[df.Category_Numeric == 3]\n",
    "\n",
    "# Find the maximum count among the minority classes\n",
    "max_minority_count = max(len(df_minority_1), len(df_minority_2), len(df_minority_3))\n",
    "\n",
    "# Undersample the majority class to have the same number of samples as the max of minority class sizes\n",
    "df_majority_undersampled = resample(df_majority, \n",
    "                                    replace=False,    # sample without replacement\n",
    "                                    n_samples=max_minority_count, # to match max minority class size\n",
    "                                    random_state=42)  # reproducible results\n",
    "\n",
    "# Combine minority class with the undersampled majority class\n",
    "df_balanced = pd.concat([df_majority_undersampled, df_minority_1, df_minority_2, df_minority_3])\n",
    "\n",
    "# Shuffle the combined DataFrame\n",
    "df_balanced = df_balanced.sample(frac=1, random_state=42).reset_index(drop=True)\n",
    "\n",
    "# Use df_balanced for your model training\n",
    "print(df_balanced['Category_Numeric'].value_counts())"
   ]
  },
  {
   "cell_type": "code",
   "execution_count": 28,
   "id": "a59a3f61",
   "metadata": {},
   "outputs": [
    {
     "data": {
      "text/plain": [
       "Category       Age  Sex  ALB   ALT    AST    BIL   CHE   CREA   GGT    PROT  Category_Numeric\n",
       "0=Blood Donor  32   m    46.3  17.5   17.8   8.5   7.01  70.0   16.9   74.5  0                   1\n",
       "2=Fibrosis     54   m    41.0  41.5   187.9  21.0  8.59  91.0   104.9  79.1  2                   1\n",
       "3=Cirrhosis    39   m    34.0  4.8    35.6   9.0   3.65  519.0  133.4  57.5  3                   1\n",
       "               38   m    44.0  94.0   60.0   12.0  4.37  61.0   99.0   77.0  3                   1\n",
       "2=Fibrosis     75   f    36.0  114.0  125.0  14.0  6.65  57.0   177.0  72.0  2                   1\n",
       "                                                                                                ..\n",
       "1=Hepatitis    25   m    42.0  63.3   187.7  14.0  6.00  66.9   40.2   70.5  1                   1\n",
       "               23   m    47.0  38.9   164.2  17.0  7.09  79.3   90.4   70.1  1                   1\n",
       "               19   m    41.0  87.0   67.0   12.0  7.55  62.0   65.0   75.0  1                   1\n",
       "0=Blood Donor  65   m    43.1  43.1   35.6   9.5   9.60  78.0   21.9   71.5  0                   1\n",
       "3=Cirrhosis    74   m    23.0  2.1    90.4   22.0  2.50  51.0   46.8   57.1  3                   1\n",
       "Name: count, Length: 100, dtype: int64"
      ]
     },
     "execution_count": 28,
     "metadata": {},
     "output_type": "execute_result"
    }
   ],
   "source": [
    "df_balanced.head()\n",
    "df_balanced.value_counts()\n",
    "\n",
    "#The new df (df_balanced) has 100 participants evenly distributed between the different categories. "
   ]
  },
  {
   "cell_type": "markdown",
   "id": "d714a7bf",
   "metadata": {},
   "source": [
    "### Splitting and Training the Balanced Data Set"
   ]
  },
  {
   "cell_type": "code",
   "execution_count": 29,
   "id": "2d993951",
   "metadata": {},
   "outputs": [],
   "source": [
    "features = ['Age', 'ALB', 'ALT', 'AST', 'BIL', 'CHE', 'CREA',\n",
    "       'GGT', 'PROT']\n",
    "\n",
    "X = df_balanced[features]  # Features\n",
    "y = df_balanced['Category_Numeric']  # Target\n",
    "\n",
    "# Split the data into training and testing sets\n",
    "X_train, X_test, y_train, y_test = train_test_split(X, y, test_size=0.2, random_state=42)"
   ]
  },
  {
   "cell_type": "code",
   "execution_count": 30,
   "id": "61770146",
   "metadata": {},
   "outputs": [],
   "source": [
    "# Scale the data\n",
    "scaler = StandardScaler()\n",
    "X_train_scaled = scaler.fit_transform(X_train)\n",
    "X_test_scaled = scaler.transform(X_test)"
   ]
  },
  {
   "cell_type": "markdown",
   "id": "75498b3f",
   "metadata": {},
   "source": [
    "### 1A.) Gini Impurity Model "
   ]
  },
  {
   "cell_type": "code",
   "execution_count": 10,
   "id": "e93f1453",
   "metadata": {},
   "outputs": [
    {
     "name": "stdout",
     "output_type": "stream",
     "text": [
      "Gini Impurity Model\n",
      "Accuracy: 0.65\n",
      "Balanced accuracy: 0.7357142857142858\n",
      "Precision score: 0.7766666666666666\n",
      "Recall score: 0.65\n",
      "F1 score: 0.6276143790849673\n"
     ]
    }
   ],
   "source": [
    "from sklearn.tree import DecisionTreeClassifier\n",
    "from sklearn.metrics import accuracy_score, balanced_accuracy_score, precision_score, recall_score, f1_score\n",
    "\n",
    "\n",
    "gini_model = DecisionTreeClassifier(criterion='gini', random_state=42)\n",
    "\n",
    "# Fit the model to the training data\n",
    "gini_model.fit(X_train_scaled, y_train)\n",
    "\n",
    "# Predict on the test set\n",
    "y_pred_gini = gini_model.predict(X_test_scaled)\n",
    "\n",
    "# Evaluate the model\n",
    "print(\"Gini Impurity Model\")\n",
    "print(\"Accuracy:\", accuracy_score(y_test, y_pred_gini))\n",
    "print(\"Balanced accuracy:\", balanced_accuracy_score(y_test, y_pred_gini))\n",
    "print('Precision score:', precision_score(y_test, y_pred_gini, average='weighted'))\n",
    "print('Recall score:', recall_score(y_test, y_pred_gini, average='weighted'))\n",
    "print('F1 score:', f1_score(y_test, y_pred_gini, average='weighted'))"
   ]
  },
  {
   "cell_type": "markdown",
   "id": "a844d871",
   "metadata": {},
   "source": [
    "### 1B.) Grid Search on Gini Impurity Model "
   ]
  },
  {
   "cell_type": "code",
   "execution_count": 11,
   "id": "644ae0ca",
   "metadata": {},
   "outputs": [
    {
     "name": "stdout",
     "output_type": "stream",
     "text": [
      "Fitting 5 folds for each of 45 candidates, totalling 225 fits\n",
      "Best Gini Impurity Model\n",
      "Best parameters found:  {'max_depth': 7, 'min_samples_leaf': 1, 'min_samples_split': 5}\n"
     ]
    }
   ],
   "source": [
    "from sklearn.model_selection import GridSearchCV\n",
    "from sklearn.tree import DecisionTreeClassifier\n",
    "from sklearn.metrics import accuracy_score, balanced_accuracy_score, precision_score, recall_score, f1_score\n",
    "\n",
    "# Define the parameter grid\n",
    "param_grid = {\n",
    "    'max_depth': [3, 5, 7, 9, 11],\n",
    "    'min_samples_split': [2, 5, 10],\n",
    "    'min_samples_leaf': [1, 2, 4]\n",
    "}\n",
    "\n",
    "# Initialize the Decision Tree model\n",
    "gini_model = DecisionTreeClassifier(criterion='gini', random_state=42)\n",
    "\n",
    "# Set up the GridSearchCV\n",
    "grid_search = GridSearchCV(estimator=gini_model, param_grid=param_grid, cv=5, scoring='f1_weighted', n_jobs=-1, verbose=2)\n",
    "\n",
    "# Fit the grid search to the training data\n",
    "grid_search.fit(X_train_scaled, y_train)\n",
    "\n",
    "# Get the best estimator\n",
    "best_gini_model = grid_search.best_estimator_\n",
    "\n",
    "# Predict on the test set\n",
    "y_pred_gini_best = best_gini_model.predict(X_test_scaled)\n",
    "\n",
    "# Evaluate the best model\n",
    "print(\"Best Gini Impurity Model\")\n",
    "print(\"Best parameters found: \", grid_search.best_params_)\n",
    "\n"
   ]
  },
  {
   "cell_type": "markdown",
   "id": "85cfa7f9",
   "metadata": {},
   "source": [
    "### 1C.) Gini Impurity with Parameter Tuning"
   ]
  },
  {
   "cell_type": "code",
   "execution_count": 12,
   "id": "559fc718",
   "metadata": {},
   "outputs": [
    {
     "name": "stdout",
     "output_type": "stream",
     "text": [
      "Gini Impurity Model\n",
      "Accuracy: 0.65\n",
      "Balanced accuracy: 0.7214285714285714\n",
      "Precision score: 0.7408333333333333\n",
      "Recall score: 0.65\n",
      "F1 score: 0.6357352941176471\n"
     ]
    },
    {
     "data": {
      "image/png": "[encoded data removed]",
      "text/plain": [
       "<Figure size 400x200 with 2 Axes>"
      ]
     },
     "metadata": {},
     "output_type": "display_data"
    }
   ],
   "source": [
    "gini_model = DecisionTreeClassifier(criterion='gini', max_depth=7, min_samples_leaf=1, min_samples_split=5, random_state=42)\n",
    "\n",
    "# Fit the model to the training data\n",
    "gini_model.fit(X_train_scaled, y_train)\n",
    "\n",
    "# Predict on the test set\n",
    "y_pred_gini = gini_model.predict(X_test_scaled)\n",
    "\n",
    "# Evaluate the model\n",
    "print(\"Gini Impurity Model\")\n",
    "print(\"Accuracy:\", accuracy_score(y_test, y_pred_gini))\n",
    "print(\"Balanced accuracy:\", balanced_accuracy_score(y_test, y_pred_gini))\n",
    "print('Precision score:', precision_score(y_test, y_pred_gini, average='weighted'))\n",
    "print('Recall score:', recall_score(y_test, y_pred_gini, average='weighted'))\n",
    "print('F1 score:', f1_score(y_test, y_pred_gini, average='weighted'))\n",
    "\n",
    "\n",
    "\n",
    "# Generate the confusion matrix\n",
    "cm = confusion_matrix(y_test, y_pred_gini)\n",
    "\n",
    "# Plot the confusion matrix\n",
    "plt.figure(figsize=(4, 2))\n",
    "sns.heatmap(cm, annot=True, fmt='d', cmap='Blues', xticklabels=np.unique(y_test), yticklabels=np.unique(y_test))\n",
    "plt.xlabel('Predicted')\n",
    "plt.ylabel('Actual')\n",
    "plt.title('Confusion Matrix for Gini Impurity Model')\n",
    "plt.show()"
   ]
  },
  {
   "cell_type": "markdown",
   "id": "b3002d1f",
   "metadata": {},
   "source": [
    "### 1D.) Cross Validation "
   ]
  },
  {
   "cell_type": "code",
   "execution_count": 13,
   "id": "919a25eb",
   "metadata": {},
   "outputs": [
    {
     "name": "stdout",
     "output_type": "stream",
     "text": [
      "Cross-validation scores: [0.45 0.55 0.65 0.6  0.5 ]\n",
      "Mean cross-validation score: 0.55\n",
      "Standard deviation of cross-validation scores: 0.07071067811865477\n"
     ]
    }
   ],
   "source": [
    "from sklearn.model_selection import cross_val_score\n",
    "\n",
    "# Perform cross-validation\n",
    "cv_scores = cross_val_score(gini_model, X, y, cv=5)  # 5-fold cross-validation\n",
    "\n",
    "# Print cross-validation scores\n",
    "print(\"Cross-validation scores:\", cv_scores)\n",
    "print(\"Mean cross-validation score:\", cv_scores.mean())\n",
    "print(\"Standard deviation of cross-validation scores:\", cv_scores.std())\n"
   ]
  },
  {
   "cell_type": "markdown",
   "id": "7222db2a",
   "metadata": {},
   "source": [
    "### 2A.) Entropy Model"
   ]
  },
  {
   "cell_type": "code",
   "execution_count": 14,
   "id": "a276276d",
   "metadata": {},
   "outputs": [
    {
     "name": "stdout",
     "output_type": "stream",
     "text": [
      "Entropy Model\n",
      "Accuracy: 0.6\n",
      "Balanced accuracy: 0.6857142857142857\n",
      "Precision score: 0.6933333333333332\n",
      "Recall score: 0.6\n",
      "F1 score: 0.6033333333333333\n"
     ]
    }
   ],
   "source": [
    "from sklearn.tree import DecisionTreeClassifier\n",
    "from sklearn.metrics import accuracy_score, balanced_accuracy_score, precision_score, recall_score, f1_score\n",
    "\n",
    "# Create the Entropy model\n",
    "entropy_model = DecisionTreeClassifier(criterion='entropy', random_state=42)\n",
    "\n",
    "# Fit the model to the training data\n",
    "entropy_model.fit(X_train_scaled, y_train)\n",
    "\n",
    "# Predict on the test set\n",
    "y_pred_entropy = entropy_model.predict(X_test_scaled)\n",
    "\n",
    "# Evaluate the model\n",
    "print(\"Entropy Model\")\n",
    "print(\"Accuracy:\", accuracy_score(y_test, y_pred_entropy))\n",
    "print(\"Balanced accuracy:\", balanced_accuracy_score(y_test, y_pred_entropy))\n",
    "print('Precision score:', precision_score(y_test, y_pred_entropy, average='weighted', zero_division=0))\n",
    "print('Recall score:', recall_score(y_test, y_pred_entropy, average='weighted', zero_division=0))\n",
    "print('F1 score:', f1_score(y_test, y_pred_entropy, average='weighted', zero_division=0))\n",
    "\n"
   ]
  },
  {
   "cell_type": "markdown",
   "id": "08772914",
   "metadata": {},
   "source": [
    "### 2B.) Grid Search on Entropy Model"
   ]
  },
  {
   "cell_type": "code",
   "execution_count": 15,
   "id": "116618dc",
   "metadata": {},
   "outputs": [
    {
     "name": "stdout",
     "output_type": "stream",
     "text": [
      "Best Entropy Model\n",
      "Best parameters found:  DecisionTreeClassifier(criterion='entropy', max_depth=5, min_samples_leaf=4,\n",
      "                       random_state=42)\n"
     ]
    }
   ],
   "source": [
    "from sklearn.tree import DecisionTreeClassifier\n",
    "from sklearn.model_selection import GridSearchCV\n",
    "from sklearn.metrics import accuracy_score, balanced_accuracy_score, precision_score, recall_score, f1_score\n",
    "\n",
    "# Define the Decision Tree model with entropy criterion\n",
    "dt_model = DecisionTreeClassifier(criterion='entropy', random_state=42)\n",
    "\n",
    "# Define the parameter grid\n",
    "param_grid = {\n",
    "    'max_depth': [3, 5, 7, 10, 15],\n",
    "    'min_samples_split': [2, 5, 10],\n",
    "    'min_samples_leaf': [1, 2, 4]\n",
    "}\n",
    "\n",
    "# Setup Grid Search with cross-validation\n",
    "grid_search = GridSearchCV(estimator=dt_model, param_grid=param_grid, cv=5, scoring='accuracy', n_jobs=-1)\n",
    "\n",
    "# Fit Grid Search\n",
    "grid_search.fit(X_train_scaled, y_train)\n",
    "\n",
    "# Get the best model from grid search\n",
    "best_dt_model = grid_search.best_estimator_\n",
    "\n",
    "# Predict on the test set\n",
    "y_pred_best_dt = best_dt_model.predict(X_test_scaled)\n",
    "\n",
    "# Evaluate the best model\n",
    "print(\"Best Entropy Model\")\n",
    "print(\"Best parameters found: \", best_dt_model)\n"
   ]
  },
  {
   "cell_type": "markdown",
   "id": "7c8be03d",
   "metadata": {},
   "source": [
    "### 2C.) Entropy Model with Parameter Tuning"
   ]
  },
  {
   "cell_type": "code",
   "execution_count": 16,
   "id": "4e95b71f",
   "metadata": {},
   "outputs": [
    {
     "name": "stdout",
     "output_type": "stream",
     "text": [
      "Entropy Model\n",
      "Accuracy: 0.7\n",
      "Balanced accuracy: 0.5571428571428572\n",
      "Precision score: 0.7322222222222223\n",
      "Recall score: 0.7\n",
      "F1 score: 0.7034722222222223\n"
     ]
    },
    {
     "data": {
      "image/png": "[encoded data removed]",
      "text/plain": [
       "<Figure size 400x200 with 2 Axes>"
      ]
     },
     "metadata": {},
     "output_type": "display_data"
    }
   ],
   "source": [
    "from sklearn.tree import DecisionTreeClassifier\n",
    "from sklearn.metrics import accuracy_score, balanced_accuracy_score, precision_score, recall_score, f1_score\n",
    "\n",
    "# Create the Entropy model\n",
    "entropy_model = DecisionTreeClassifier(criterion='entropy', max_depth=5, min_samples_leaf=4, random_state=42)\n",
    "\n",
    "# Fit the model to the training data\n",
    "entropy_model.fit(X_train_scaled, y_train)\n",
    "\n",
    "# Predict on the test set\n",
    "y_pred_entropy = entropy_model.predict(X_test_scaled)\n",
    "\n",
    "\n",
    "# Evaluate the model\n",
    "print(\"Entropy Model\")\n",
    "print(\"Accuracy:\", accuracy_score(y_test, y_pred_entropy))\n",
    "print(\"Balanced accuracy:\", balanced_accuracy_score(y_test, y_pred_entropy))\n",
    "print('Precision score:', precision_score(y_test, y_pred_entropy, average='weighted', zero_division=0))\n",
    "print('Recall score:', recall_score(y_test, y_pred_entropy, average='weighted', zero_division=0))\n",
    "print('F1 score:', f1_score(y_test, y_pred_entropy, average='weighted', zero_division=0))\n",
    "\n",
    "\n",
    "\n",
    "# Generate the confusion matrix\n",
    "cm_entropy = confusion_matrix(y_test, y_pred_entropy)\n",
    "\n",
    "# Plot the confusion matrix\n",
    "plt.figure(figsize=(4,2))\n",
    "sns.heatmap(cm_entropy, annot=True, fmt='d', cmap='Blues', xticklabels=np.unique(y_test), yticklabels=np.unique(y_test))\n",
    "plt.xlabel('Predicted')\n",
    "plt.ylabel('Actual')\n",
    "plt.title('Confusion Matrix for Entropy Model')\n",
    "plt.show() "
   ]
  },
  {
   "cell_type": "markdown",
   "id": "64eb2d35",
   "metadata": {},
   "source": [
    "### 3A.) Random Forest"
   ]
  },
  {
   "cell_type": "code",
   "execution_count": 17,
   "id": "2260ee38",
   "metadata": {},
   "outputs": [
    {
     "name": "stdout",
     "output_type": "stream",
     "text": [
      "Random Forest Model\n",
      "Accuracy: 0.8\n",
      "Balanced accuracy: 0.8571428571428572\n",
      "Precision score: 0.888888888888889\n",
      "Recall score: 0.8\n",
      "F1 score: 0.79125\n"
     ]
    }
   ],
   "source": [
    "from sklearn.ensemble import RandomForestClassifier\n",
    "from sklearn.metrics import accuracy_score, balanced_accuracy_score, precision_score, recall_score, f1_score\n",
    "\n",
    "# Initialize the Random Forest model\n",
    "rf_model = RandomForestClassifier(n_estimators=100, max_depth=10, random_state=42)\n",
    "\n",
    "# Fit the model to the training data\n",
    "rf_model.fit(X_train, y_train)\n",
    "\n",
    "# Predict on the test data\n",
    "y_pred_rf = rf_model.predict(X_test)\n",
    "\n",
    "# Evaluate the model\n",
    "print(\"Random Forest Model\")\n",
    "print(\"Accuracy:\", accuracy_score(y_test, y_pred_rf))\n",
    "print(\"Balanced accuracy:\", balanced_accuracy_score(y_test, y_pred_rf))\n",
    "print('Precision score:', precision_score(y_test, y_pred_rf, average='weighted', zero_division=0))\n",
    "print('Recall score:', recall_score(y_test, y_pred_rf, average='weighted', zero_division=0))\n",
    "print('F1 score:', f1_score(y_test, y_pred_rf, average='weighted', zero_division=0))\n"
   ]
  },
  {
   "cell_type": "markdown",
   "id": "5c7eb414",
   "metadata": {},
   "source": [
    "### 3B.) Grid Search on Random Forest"
   ]
  },
  {
   "cell_type": "code",
   "execution_count": 18,
   "id": "61e1a8fc",
   "metadata": {},
   "outputs": [
    {
     "name": "stdout",
     "output_type": "stream",
     "text": [
      "Best RF Model\n",
      "Best parameters found:  RandomForestClassifier(min_samples_split=10, n_estimators=50, random_state=42)\n"
     ]
    }
   ],
   "source": [
    "from sklearn.ensemble import RandomForestClassifier\n",
    "from sklearn.model_selection import GridSearchCV\n",
    "from sklearn.metrics import accuracy_score, balanced_accuracy_score, precision_score, recall_score, f1_score\n",
    "\n",
    "# Define the Random Forest model\n",
    "rf_model = RandomForestClassifier(random_state=42)\n",
    "\n",
    "# Define the parameter grid\n",
    "param_grid = {\n",
    "    'n_estimators': [50, 100, 200],\n",
    "    'max_depth': [None, 10, 20, 30],\n",
    "    'min_samples_split': [2, 5, 10],\n",
    "    'min_samples_leaf': [1, 2, 4],\n",
    "    'bootstrap': [True, False]\n",
    "}\n",
    "\n",
    "# Setup Grid Search with cross-validation\n",
    "grid_search = GridSearchCV(estimator=rf_model, param_grid=param_grid, cv=5, scoring='accuracy', n_jobs=-1)\n",
    "\n",
    "# Fit Grid Search\n",
    "grid_search.fit(X_train, y_train)\n",
    "\n",
    "# Get the best model from grid search\n",
    "best_rf_model = grid_search.best_estimator_\n",
    "\n",
    "\n",
    "print(\"Best RF Model\")\n",
    "print(\"Best parameters found: \", best_rf_model)\n"
   ]
  },
  {
   "cell_type": "markdown",
   "id": "eed649e8",
   "metadata": {},
   "source": [
    "### 3C.) Random Forest with Parameter Tuning"
   ]
  },
  {
   "cell_type": "code",
   "execution_count": 31,
   "id": "8ad7793f",
   "metadata": {},
   "outputs": [
    {
     "name": "stdout",
     "output_type": "stream",
     "text": [
      "Random Forest Model\n",
      "Accuracy: 0.75\n",
      "Balanced accuracy: 0.8214285714285714\n",
      "Precision score: 0.8847222222222222\n",
      "Recall score: 0.75\n",
      "F1 score: 0.7318055555555556\n",
      "[[7 0 0 0]\n",
      " [2 2 3 0]\n",
      " [0 0 1 0]\n",
      " [0 0 0 5]]\n"
     ]
    },
    {
     "data": {
      "image/png": "[encoded data removed]",
      "text/plain": [
       "<Figure size 400x200 with 2 Axes>"
      ]
     },
     "metadata": {},
     "output_type": "display_data"
    }
   ],
   "source": [
    "# Initialize the Random Forest model\n",
    "rf_model = RandomForestClassifier(min_samples_split=10, n_estimators=50,random_state=42)\n",
    "\n",
    "# Fit the model to the training data\n",
    "rf_model.fit(X_train, y_train)\n",
    "\n",
    "# Predict on the test data\n",
    "y_pred_rf = rf_model.predict(X_test)\n",
    "\n",
    "# Evaluate the model\n",
    "print(\"Random Forest Model\")\n",
    "print(\"Accuracy:\", accuracy_score(y_test, y_pred_rf))\n",
    "print(\"Balanced accuracy:\", balanced_accuracy_score(y_test, y_pred_rf))\n",
    "print('Precision score:', precision_score(y_test, y_pred_rf, average='weighted', zero_division=0))\n",
    "print('Recall score:', recall_score(y_test, y_pred_rf, average='weighted', zero_division=0))\n",
    "print('F1 score:', f1_score(y_test, y_pred_rf, average='weighted', zero_division=0))\n",
    "\n",
    "# Generate the confusion matrix\n",
    "cm_rf = confusion_matrix(y_test, y_pred_rf)\n",
    "print(cm_rf)\n",
    "\n",
    "# Plot the confusion matrix\n",
    "plt.figure(figsize=(4,2))\n",
    "sns.heatmap(cm_rf, annot=True, fmt='d', cmap='Blues', xticklabels=np.unique(y_test), yticklabels=np.unique(y_test))\n",
    "plt.xlabel('Predicted')\n",
    "plt.ylabel('Actual')\n",
    "plt.title('Confusion Matrix for Random Forest Model')\n",
    "plt.show()"
   ]
  },
  {
   "cell_type": "code",
   "execution_count": 32,
   "id": "2078a7ae",
   "metadata": {},
   "outputs": [
    {
     "name": "stdout",
     "output_type": "stream",
     "text": [
      "Cross-validation scores: [0.75 0.5  0.65 0.8  0.7 ]\n",
      "Mean cross-validation score: 0.68\n",
      "Standard deviation of cross-validation scores: 0.10295630140987003\n"
     ]
    }
   ],
   "source": [
    "# cross-validation with 5 folds\n",
    "cv_scores = cross_val_score(rf_model, X, y, cv=5, scoring='accuracy')\n",
    "\n",
    "# cross-validation scores and their mean and standard deviation\n",
    "print(\"Cross-validation scores:\", cv_scores)\n",
    "print(\"Mean cross-validation score:\", np.mean(cv_scores))\n",
    "print(\"Standard deviation of cross-validation scores:\", np.std(cv_scores))"
   ]
  },
  {
   "cell_type": "markdown",
   "id": "0746b2ad",
   "metadata": {},
   "source": [
    "### 4A.) Support Vector Model"
   ]
  },
  {
   "cell_type": "code",
   "execution_count": null,
   "id": "3c834ee2",
   "metadata": {},
   "outputs": [],
   "source": [
    "from sklearn.svm import SVC\n",
    "from sklearn.metrics import accuracy_score, balanced_accuracy_score, precision_score, recall_score, f1_score\n",
    "\n",
    "# Define the SVM model\n",
    "svm_model = SVC(random_state=42, probability=True)  # Set probability=True to use predict_proba for ROC curve\n",
    "\n",
    "# Fit the model to the training data\n",
    "svm_model.fit(X_train_scaled, y_train)\n",
    "\n",
    "# Predict on the test data\n",
    "y_pred_svm = svm_model.predict(X_test_scaled)\n",
    "\n",
    "# Evaluate the model\n",
    "print(\"Support Vector Machine Model\")\n",
    "print(\"Accuracy:\", accuracy_score(y_test, y_pred_svm))\n",
    "print(\"Balanced accuracy:\", balanced_accuracy_score(y_test, y_pred_svm))\n",
    "print('Precision score:', precision_score(y_test, y_pred_svm, average='weighted', zero_division=0))\n",
    "print('Recall score:', recall_score(y_test, y_pred_svm, average='weighted', zero_division=0))\n",
    "print('F1 score:', f1_score(y_test, y_pred_svm, average='weighted', zero_division=0))\n"
   ]
  },
  {
   "cell_type": "markdown",
   "id": "bee0ff43",
   "metadata": {},
   "source": [
    "### 4B.)Grid Search Support Vector Model "
   ]
  },
  {
   "cell_type": "code",
   "execution_count": null,
   "id": "a67f516e",
   "metadata": {},
   "outputs": [],
   "source": [
    "# Define the parameter grid for Grid Search\n",
    "\n",
    "param_grid = {\n",
    "    'C': [0.002,0.2,2,20,200],  # Expanded range\n",
    "    'kernel': ['linear', 'rbf'],\n",
    "    'gamma': ['scale', 'auto', 0.001, 0.01, 0.1, 1]  # Adjusted and expanded range\n",
    "}\n",
    "\n",
    "\n",
    "\n",
    "# Setup Grid Search with cross-validation\n",
    "grid_search = GridSearchCV(estimator=svm_model, param_grid=param_grid, cv=5, scoring='accuracy', n_jobs=-1)\n",
    "\n",
    "# Fit Grid Search\n",
    "grid_search.fit(X_train, y_train)\n",
    "\n",
    "# Get the best model from grid search\n",
    "best_svm_model = grid_search.best_estimator_\n",
    "\n",
    "\n",
    "print(best_svm_model)"
   ]
  },
  {
   "cell_type": "code",
   "execution_count": null,
   "id": "d6ff504f",
   "metadata": {},
   "outputs": [],
   "source": [
    "# Define the SVM model\n",
    "svm_model = SVC(C=0.2, kernel='linear', probability=True, random_state=42)  # Set probability=True to use predict_proba for ROC curve\n",
    "\n",
    "# Fit the model to the training data\n",
    "svm_model.fit(X_train_scaled, y_train)\n",
    "\n",
    "# Predict on the test data\n",
    "y_pred_svm = svm_model.predict(X_test_scaled)\n",
    "\n",
    "# Evaluate the model\n",
    "print(\"Support Vector Machine Model\")\n",
    "print(\"Accuracy:\", accuracy_score(y_test, y_pred_svm))\n",
    "print(\"Balanced accuracy:\", balanced_accuracy_score(y_test, y_pred_svm))\n",
    "print('Precision score:', precision_score(y_test, y_pred_svm, average='weighted', zero_division=0))\n",
    "print('Recall score:', recall_score(y_test, y_pred_svm, average='weighted', zero_division=0))\n",
    "print('F1 score:', f1_score(y_test, y_pred_svm, average='weighted', zero_division=0))\n",
    "\n",
    "\n",
    "# Generate the confusion matrix\n",
    "cm_svm = confusion_matrix(y_test, y_pred_svm)\n",
    "\n",
    "# Plot the confusion matrix\n",
    "plt.figure(figsize=(4,2))\n",
    "sns.heatmap(cm_svm, annot=True, fmt='d', cmap='Blues', xticklabels=np.unique(y_test), yticklabels=np.unique(y_test))\n",
    "plt.xlabel('Predicted')\n",
    "plt.ylabel('Actual')\n",
    "plt.title('Confusion Matrix for SVM Model')\n",
    "plt.show()"
   ]
  },
  {
   "cell_type": "code",
   "execution_count": null,
   "id": "4b42c7d5",
   "metadata": {},
   "outputs": [],
   "source": [
    "# Cross-validation\n",
    "cv_scores = cross_val_score(svm_model, X_train_scaled, y_train, cv=5, scoring='accuracy')\n",
    "\n",
    "# Print cross-validation results\n",
    "print(\"Cross-validation scores:\", cv_scores)\n",
    "print(\"Mean cross-validation score:\", np.mean(cv_scores))\n",
    "print(\"Standard deviation of cross-validation scores:\", np.std(cv_scores))"
   ]
  },
  {
   "cell_type": "markdown",
   "id": "a8aebc73",
   "metadata": {},
   "source": [
    "### Comparison of Models\n",
    "After evaluating multiple machine learning models, the Random Forest model proves to be the most effective classifier for this dataset. It outperforms the Support Vector Machine (SVM) model based on Accuracy, Balanced Accuracy, Precision, Recall, and F1 Score. When assessing performance using Cross Validation, both models show variability. However, the Random Forest's higher mean cross-validation score indicates better overall performance. Although the SVM has a lower standard deviation, suggesting more consistent results, the Random Forest model's superior mean score highlights its better generalization capability across different data subsets."
   ]
  },
  {
   "cell_type": "code",
   "execution_count": 34,
   "id": "7cf9b49e",
   "metadata": {},
   "outputs": [
    {
     "name": "stdout",
     "output_type": "stream",
     "text": [
      "  Features  Importance scores\n",
      "3      AST              0.120\n",
      "7      GGT              0.070\n",
      "1      ALB              0.065\n",
      "0      Age              0.040\n",
      "5      CHE              0.040\n",
      "4      BIL              0.025\n",
      "8     PROT              0.000\n",
      "6     CREA             -0.010\n",
      "2      ALT             -0.020\n"
     ]
    },
    {
     "data": {
      "image/png": "[encoded data removed]",
      "text/plain": [
       "<Figure size 500x300 with 1 Axes>"
      ]
     },
     "metadata": {},
     "output_type": "display_data"
    }
   ],
   "source": [
    "from sklearn.inspection import permutation_importance\n",
    "# Permutation feature importance\n",
    "perm_importance = permutation_importance(rf_model, X_test, y_test, n_repeats=10, random_state=42)\n",
    "\n",
    "# DataFrame with feature names and their importance scores\n",
    "features = X_test.columns  # column names from the test data\n",
    "importances = perm_importance.importances_mean\n",
    "tab = pd.DataFrame(list(zip(features, importances)), columns=['Features', 'Importance scores'])\n",
    "tab = tab.sort_values(by='Importance scores', ascending=False)  # Sort by importance\n",
    "\n",
    "# Print the DataFrame\n",
    "print(tab)\n",
    "\n",
    "# Visual comparison\n",
    "plt.figure(figsize=(5, 3))\n",
    "\n",
    "# Sort indices by feature importance\n",
    "indices = np.argsort(importances)\n",
    "sorted_features = [features[i] for i in indices]\n",
    "sorted_importances = [importances[i] for i in indices]\n",
    "\n",
    "plt.barh(sorted_features, sorted_importances, align='center', color='g')\n",
    "plt.xlabel('Relative Importance', fontsize=15)\n",
    "plt.ylabel('Features', fontsize=15)\n",
    "plt.title('Feature Importances for Random Forest Model', fontsize=15)\n",
    "plt.savefig(\"feature_importances_rfm.png\")\n",
    "plt.show()\n"
   ]
  },
  {
   "cell_type": "markdown",
   "id": "972f2637",
   "metadata": {},
   "source": [
    "### Feature Analysis\n",
    "\n",
    "The two most important features identified were AST and GGT, which are enzymes produced by the liver. This finding aligns with expectations, as elevated levels of AST and GGT often indicate liver damage or bile duct issues. Given that Hepatitis C progressively damages the liver, increased levels of these enzymes are consistent with the disease's effects."
   ]
  },
  {
   "cell_type": "markdown",
   "id": "1d43c89b",
   "metadata": {},
   "source": [
    "## ROC Curve"
   ]
  },
  {
   "cell_type": "code",
   "execution_count": 37,
   "id": "c8d25431",
   "metadata": {},
   "outputs": [
    {
     "name": "stdout",
     "output_type": "stream",
     "text": [
      "Class 0: AUC = 0.99\n",
      "Class 1: AUC = 0.95\n",
      "Class 2: AUC = 0.95\n",
      "Class 3: AUC = 1.00\n"
     ]
    },
    {
     "data": {
      "image/png": "[encoded data removed]",
      "text/plain": [
       "<Figure size 640x480 with 1 Axes>"
      ]
     },
     "metadata": {},
     "output_type": "display_data"
    }
   ],
   "source": [
    "from sklearn.metrics import roc_curve, auc\n",
    "from sklearn.preprocessing import label_binarize\n",
    "\n",
    "\n",
    "# Predict probabilities for the test set\n",
    "y_prob_rf = rf_model.predict_proba(X_test)\n",
    "\n",
    "# Number of classes\n",
    "n_classes = len(np.unique(y_test))\n",
    "\n",
    "# Binarize the output\n",
    "y_test_bin = label_binarize(y_test, classes=np.arange(n_classes))\n",
    "\n",
    "# Compute ROC curve and ROC area for each class\n",
    "fpr = {}\n",
    "tpr = {}\n",
    "roc_auc = {}\n",
    "for i in range(n_classes):\n",
    "    fpr[i], tpr[i], _ = roc_curve(y_test_bin[:, i], y_prob_rf[:, i])\n",
    "    roc_auc[i] = auc(fpr[i], tpr[i])\n",
    "\n",
    "# Print AUC scores for each class\n",
    "for i in range(n_classes):\n",
    "    print(f'Class {i}: AUC = {roc_auc[i]:.2f}')\n",
    "    \n",
    "# Plot ROC Curves\n",
    "plt.figure()\n",
    "colors = plt.cm.rainbow(np.linspace(0, 1, n_classes))\n",
    "for i, color in zip(range(n_classes), colors):\n",
    "    plt.plot(fpr[i], tpr[i], color=color, lw=2, label=f'ROC curve of class {i} (area = {roc_auc[i]:.2f})')\n",
    "\n",
    "plt.plot([0, 1], [0, 1], color='navy', lw=2, linestyle='--')\n",
    "plt.xlim([0.0, 1.0])\n",
    "plt.ylim([0.0, 1.05])\n",
    "plt.xlabel('False Positive Rate')\n",
    "plt.ylabel('True Positive Rate')\n",
    "plt.title('Receiver Operating Characteristic (ROC)')\n",
    "plt.legend(loc='lower right')\n",
    "plt.show()"
   ]
  },
  {
   "cell_type": "markdown",
   "id": "ffada559",
   "metadata": {},
   "source": [
    "## Final Conclusion on Random Forest Model Performance\n",
    "\n",
    "\n",
    "After evaluating multiple machine learning models, including Gini Impurity, Entropy, Random Forest (RF), and Support Vector Machine (SVM), the Random Forest model proved to be the most effective classifier for this dataset. It outperformed the SVM in terms of accuracy, balanced accuracy, precision, recall, and F1 score. The confusion matrix showed that Class 0 had the highest accuracy and Class 3 was perfectly classified. Class 1 had some confusion with Class 2. Overall, the model achieved an accuracy of 0.75, balanced accuracy of 0.82, precision of 0.88, recall of 0.75, and an F1 score of 0.73, indicating strong performance with room for improvement in recall and F1 score.\n",
    "\n",
    "The ROC/AUC scores were excellent, with Class 0 at 0.99, Class 1 and Class 2 at 0.95, and Class 3 at 1.00, showing superior class discrimination. However,the cross-validation results, ranging from 0.50 to 0.80 with a mean score of 0.68, suggested some overfitting and sensitivity to data splits.\n",
    "\n",
    "To enhance the model, exploring SMOTE for class balance, focusing on advanced feature engineering, implementing k-fold cross-validation, and considering Gradient Boosting could be beneficial. The RFM's strength in classifying Class 0 and Class 3 aligns with the significant differences in lab results between patients with and without Hepatitis C, indicating that a binary classification model might offer improved results."
   ]
  }
 ],
 "metadata": {
  "kernelspec": {
   "display_name": "Python 3 (ipykernel)",
   "language": "python",
   "name": "python3"
  },
  "language_info": {
   "codemirror_mode": {
    "name": "ipython",
    "version": 3
   },
   "file_extension": ".py",
   "mimetype": "text/x-python",
   "name": "python",
   "nbconvert_exporter": "python",
   "pygments_lexer": "ipython3",
   "version": "3.11.5"
  }
 },
 "nbformat": 4,
 "nbformat_minor": 5
}
