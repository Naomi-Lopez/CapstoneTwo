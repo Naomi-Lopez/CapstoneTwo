{
 "cells": [
  {
   "cell_type": "code",
   "execution_count": 28,
   "id": "5141cb63",
   "metadata": {},
   "outputs": [],
   "source": [
    "import os\n",
    "import pandas as pd\n",
    "import numpy as np\n",
    "import matplotlib.pyplot as plt\n",
    "import seaborn as sns\n",
    "\n",
    "\n",
    "\n",
    "\n",
    "df= pd.read_csv('HepatitisCdata.csv')"
   ]
  },
  {
   "cell_type": "code",
   "execution_count": 29,
   "id": "8ce846ad",
   "metadata": {},
   "outputs": [
    {
     "name": "stdout",
     "output_type": "stream",
     "text": [
      "   Unnamed: 0       Category  Age Sex   ALB   ALP   ALT   AST   BIL    CHE  \\\n",
      "0           1  0=Blood Donor   32   m  38.5  52.5   7.7  22.1   7.5   6.93   \n",
      "1           2  0=Blood Donor   32   m  38.5  70.3  18.0  24.7   3.9  11.17   \n",
      "2           3  0=Blood Donor   32   m  46.9  74.7  36.2  52.6   6.1   8.84   \n",
      "3           4  0=Blood Donor   32   m  43.2  52.0  30.6  22.6  18.9   7.33   \n",
      "4           5  0=Blood Donor   32   m  39.2  74.1  32.6  24.8   9.6   9.15   \n",
      "\n",
      "   CHOL   CREA   GGT  PROT  \n",
      "0  3.23  106.0  12.1  69.0  \n",
      "1  4.80   74.0  15.6  76.5  \n",
      "2  5.20   86.0  33.2  79.3  \n",
      "3  4.74   80.0  33.8  75.7  \n",
      "4  4.32   76.0  29.9  68.7  \n"
     ]
    }
   ],
   "source": [
    "#head called to visualize first five rows of data\n",
    "print(df.head())\n",
    "\n"
   ]
  },
  {
   "cell_type": "code",
   "execution_count": 30,
   "id": "4e07175b-ca15-4135-ac76-b1a34ad52ceb",
   "metadata": {},
   "outputs": [
    {
     "name": "stdout",
     "output_type": "stream",
     "text": [
      "<class 'pandas.core.frame.DataFrame'>\n",
      "RangeIndex: 615 entries, 0 to 614\n",
      "Data columns (total 14 columns):\n",
      " #   Column      Non-Null Count  Dtype  \n",
      "---  ------      --------------  -----  \n",
      " 0   Unnamed: 0  615 non-null    int64  \n",
      " 1   Category    615 non-null    object \n",
      " 2   Age         615 non-null    int64  \n",
      " 3   Sex         615 non-null    object \n",
      " 4   ALB         614 non-null    float64\n",
      " 5   ALP         597 non-null    float64\n",
      " 6   ALT         614 non-null    float64\n",
      " 7   AST         615 non-null    float64\n",
      " 8   BIL         615 non-null    float64\n",
      " 9   CHE         615 non-null    float64\n",
      " 10  CHOL        605 non-null    float64\n",
      " 11  CREA        615 non-null    float64\n",
      " 12  GGT         615 non-null    float64\n",
      " 13  PROT        614 non-null    float64\n",
      "dtypes: float64(10), int64(2), object(2)\n",
      "memory usage: 67.4+ KB\n"
     ]
    }
   ],
   "source": [
    "#Info called to see a summary of the data\n",
    "df.info()\n"
   ]
  },
  {
   "cell_type": "code",
   "execution_count": 31,
   "id": "136ca37a",
   "metadata": {},
   "outputs": [
    {
     "name": "stdout",
     "output_type": "stream",
     "text": [
      "Index(['Unnamed: 0', 'Category', 'Age', 'Sex', 'ALB', 'ALP', 'ALT', 'AST',\n",
      "       'BIL', 'CHE', 'CHOL', 'CREA', 'GGT', 'PROT'],\n",
      "      dtype='object')\n"
     ]
    }
   ],
   "source": [
    "#Exploring the column names\n",
    "column_names = df.columns\n",
    "print(column_names)\n"
   ]
  },
  {
   "cell_type": "code",
   "execution_count": 32,
   "id": "225216d5-d6e6-4ba9-88dd-783b1024a687",
   "metadata": {},
   "outputs": [
    {
     "name": "stdout",
     "output_type": "stream",
     "text": [
      "Unnamed: 0      int64\n",
      "Category       object\n",
      "Age             int64\n",
      "Sex            object\n",
      "ALB           float64\n",
      "ALP           float64\n",
      "ALT           float64\n",
      "AST           float64\n",
      "BIL           float64\n",
      "CHE           float64\n",
      "CHOL          float64\n",
      "CREA          float64\n",
      "GGT           float64\n",
      "PROT          float64\n",
      "dtype: object\n"
     ]
    }
   ],
   "source": [
    "#dtypes method used to visualize the data types for each column \n",
    "data_types = df.dtypes\n",
    "print(data_types)\n",
    "\n",
    "#All columns have consistent data types ie all lab value categories are floats"
   ]
  },
  {
   "cell_type": "code",
   "execution_count": 33,
   "id": "ad421f98-023e-4229-a6e6-35d1406c99ba",
   "metadata": {},
   "outputs": [
    {
     "name": "stdout",
     "output_type": "stream",
     "text": [
      "Unnamed: 0    1\n",
      "Category      1\n",
      "Age           1\n",
      "Sex           1\n",
      "ALB           1\n",
      "ALP           1\n",
      "ALT           1\n",
      "AST           1\n",
      "BIL           1\n",
      "CHE           1\n",
      "CHOL          1\n",
      "CREA          1\n",
      "GGT           1\n",
      "PROT          1\n",
      "Name: count, dtype: int64\n",
      "            count         %\n",
      "ALP            18  2.926829\n",
      "CHOL           10  1.626016\n",
      "ALB             1  0.162602\n",
      "ALT             1  0.162602\n",
      "PROT            1  0.162602\n",
      "Unnamed: 0      0  0.000000\n",
      "Category        0  0.000000\n",
      "Age             0  0.000000\n",
      "Sex             0  0.000000\n",
      "AST             0  0.000000\n",
      "BIL             0  0.000000\n",
      "CHE             0  0.000000\n",
      "CREA            0  0.000000\n",
      "GGT             0  0.000000\n"
     ]
    }
   ],
   "source": [
    "#value_counts method to see if there are any duplicate columns \n",
    "unique_values_counts = column_names.value_counts()\n",
    "print(unique_values_counts)\n",
    "\n",
    "#.sum() is used to count the missing values (.isnull) in each column\n",
    "#as well as the percentages using .mean()\n",
    "#Ordered by descending order using sort_values\n",
    "#pd.concat to present these in a data frame with the helpful column names 'count' and '%'\n",
    "missing_counts = df.isnull().sum()\n",
    "missing_percentages = 100 * df.isnull().mean()\n",
    "missing_df=pd.DataFrame({'count':missing_counts, '%':missing_percentages})\n",
    "missing_concat = pd.concat([missing_df], axis=0)\n",
    "missing_sorted = missing_concat.sort_values(by ='count', ascending= False)\n",
    "print(missing_sorted)\n",
    "\n",
    "#From the code provided above, all columns are unique\n",
    "#From the code provided above, we can see that ALP (alkaline phosphatase) and CHOL (cholesterol) have the most missing values "
   ]
  },
  {
   "cell_type": "code",
   "execution_count": 34,
   "id": "2979e654-283f-438a-b4fa-7f6a487f46ef",
   "metadata": {},
   "outputs": [
    {
     "name": "stdout",
     "output_type": "stream",
     "text": [
      "Range for 'Unnamed: 0': 614\n",
      "Range for 'Age': 58\n",
      "Range for 'ALB': 67.3\n",
      "Range for 'ALP': 405.3\n",
      "Range for 'ALT': 324.40000000000003\n",
      "Range for 'AST': 313.4\n",
      "Range for 'BIL': 253.2\n",
      "Range for 'CHE': 14.99\n",
      "Range for 'CHOL': 8.24\n",
      "Range for 'CREA': 1071.1\n",
      "Range for 'GGT': 646.4\n",
      "Range for 'PROT': 45.2\n"
     ]
    }
   ],
   "source": [
    "# Initializing an empty dictionary to store ranges for each numerical column\n",
    "column_ranges = {}\n",
    "\n",
    "#calculating the range for numerical columns\n",
    "for col in df.columns:\n",
    "    if pd.api.types.is_numeric_dtype(df[col]):  # Checking if the column is numeric\n",
    "        col_min = df[col].min()\n",
    "        col_max = df[col].max()\n",
    "        col_range = col_max - col_min\n",
    "        column_ranges[col] = col_range\n",
    "\n",
    "# Printing the ranges for each numerical column\n",
    "for col, col_range in column_ranges.items():\n",
    "    print(f\"Range for '{col}': {col_range}\")"
   ]
  },
  {
   "cell_type": "code",
   "execution_count": 35,
   "id": "6940307b-f939-47a7-9ad8-f76f1cf69bf9",
   "metadata": {},
   "outputs": [
    {
     "name": "stdout",
     "output_type": "stream",
     "text": [
      "mean for 'Unnamed: 0': 308.0\n",
      "mean for 'Age': 47.40813008130081\n",
      "mean for 'ALB': 41.62019543973941\n",
      "mean for 'ALP': 68.28391959798995\n",
      "mean for 'ALT': 28.450814332247557\n",
      "mean for 'AST': 34.78634146341463\n",
      "mean for 'BIL': 11.396747967479675\n",
      "mean for 'CHE': 8.196634146341465\n",
      "mean for 'CHOL': 5.368099173553719\n",
      "mean for 'CREA': 81.28780487804877\n",
      "mean for 'GGT': 39.53317073170732\n",
      "mean for 'PROT': 72.0441368078176\n"
     ]
    }
   ],
   "source": [
    "#calculating the mean for numerical columns\n",
    "\n",
    "# Initializing an empty dictionary to store the mean for each numerical column\n",
    "column_means = {}\n",
    "\n",
    "#calculating the mean for numerical columns\n",
    "for col in df.columns:\n",
    "    if pd.api.types.is_numeric_dtype(df[col]):  # Checking if the column is numeric\n",
    "       col_mean = df[col].mean()\n",
    "       column_means[col] = col_mean\n",
    "\n",
    "#printing mean for each col\n",
    "for col, col_mean in column_means.items():\n",
    "    print(f\"mean for '{col}': {col_mean}\")\n",
    "\n",
    "\n",
    "\n"
   ]
  },
  {
   "cell_type": "code",
   "execution_count": 36,
   "id": "dd647b0c-37b8-4cf1-b07d-2f4b0b4dd016",
   "metadata": {},
   "outputs": [
    {
     "name": "stdout",
     "output_type": "stream",
     "text": [
      "median for 'Unnamed: 0': 308.0\n",
      "median for 'Age': 47.0\n",
      "median for 'ALB': 41.95\n",
      "median for 'ALP': 66.2\n",
      "median for 'ALT': 23.0\n",
      "median for 'AST': 25.9\n",
      "median for 'BIL': 7.3\n",
      "median for 'CHE': 8.26\n",
      "median for 'CHOL': 5.3\n",
      "median for 'CREA': 77.0\n",
      "median for 'GGT': 23.3\n",
      "median for 'PROT': 72.2\n"
     ]
    }
   ],
   "source": [
    "#calculating the median for numerical columns\n",
    "\n",
    "# Initializing an empty dictionary to store the median for each numerical column\n",
    "column_medians = {}\n",
    "\n",
    "#calculating the median for numerical columns\n",
    "for col in df.columns:\n",
    "    if pd.api.types.is_numeric_dtype(df[col]):  # Checking if the column is numeric\n",
    "       col_median = df[col].median()\n",
    "       column_medians[col] = col_median\n",
    "\n",
    "#printing median for each col\n",
    "for col, col_median in column_medians.items():\n",
    "    print(f\"median for '{col}': {col_median}\")\n",
    "\n",
    "\n",
    "\n",
    "#The columns that have medians vastly different from the means may indicate that there are outliers in our data \n",
    "#OR it could mean the the patients with Hep C have drastically higher values than those who do not have Hep C"
   ]
  },
  {
   "cell_type": "code",
   "execution_count": 37,
   "id": "95a36265-e786-4d78-94ff-d75da809904a",
   "metadata": {},
   "outputs": [
    {
     "name": "stdout",
     "output_type": "stream",
     "text": [
      "Mode for 'Unnamed: 0': 1\n",
      "Mode for 'Age': 46\n",
      "Mode for 'ALB': 39.0\n",
      "Mode for 'ALP': 52.5\n",
      "Mode for 'ALT': 16.6\n",
      "Mode for 'AST': 22.0\n",
      "Mode for 'BIL': 6.0\n",
      "Mode for 'CHE': 7.52\n",
      "Mode for 'CHOL': 5.07\n",
      "Mode for 'CREA': 74.0\n",
      "Mode for 'GGT': 13.0\n",
      "Mode for 'PROT': 71.9\n"
     ]
    }
   ],
   "source": [
    "#calculating the mode for numerical columns\n",
    "\n",
    "# Initializing an empty dictionary to store the mode for each numerical column\n",
    "column_modes = {}\n",
    "\n",
    "#calculating the mode for numerical columns\n",
    "for col in df.columns:\n",
    "    if pd.api.types.is_numeric_dtype(df[col]):  # Checking if the column is numeric\n",
    "        col_mode = df[col].mode()\n",
    "        if not col_mode.empty:  # Checking if mode(s) exist\n",
    "            col_mode_value = col_mode.iloc[0]  # Getting the first mode value\n",
    "            column_modes[col] = col_mode_value\n",
    "\n",
    "# Printing mode for each column\n",
    "for col, col_mode in column_modes.items():\n",
    "    print(f\"Mode for '{col}': {col_mode}\")\n",
    "\n",
    "\n",
    "\n",
    "\n",
    "\n"
   ]
  },
  {
   "cell_type": "code",
   "execution_count": 38,
   "id": "5f6ab68a-4095-4a1a-a9b2-c2d89c2c6e56",
   "metadata": {},
   "outputs": [
    {
     "name": "stdout",
     "output_type": "stream",
     "text": [
      "standard deviation for 'Unnamed: 0': 177.67948671695333\n",
      "standard deviation for 'Age': 10.055105445519237\n",
      "standard deviation for 'ALB': 5.7806294041030775\n",
      "standard deviation for 'ALP': 26.028315300123676\n",
      "standard deviation for 'ALT': 25.46968881387094\n",
      "standard deviation for 'AST': 33.090690338551575\n",
      "standard deviation for 'BIL': 19.673149805846588\n",
      "standard deviation for 'CHE': 2.2056572704292936\n",
      "standard deviation for 'CHOL': 1.132728431159735\n",
      "standard deviation for 'CREA': 49.75616601234977\n",
      "standard deviation for 'GGT': 54.66107123891246\n",
      "standard deviation for 'PROT': 5.402635737104956\n"
     ]
    }
   ],
   "source": [
    "#calculating the standard deviation for numerical columns\n",
    "\n",
    "# Initializing an empty dictionary to store the standard deviation for each numerical column\n",
    "column_stds = {}\n",
    "\n",
    "#calculating the standard deviation for numerical columns\n",
    "for col in df.columns:\n",
    "    if pd.api.types.is_numeric_dtype(df[col]):  # Checking if the column is numeric\n",
    "       col_std = df[col].std()\n",
    "       column_stds[col] = col_std\n",
    "\n",
    "#printing median for each col\n",
    "for col, col_std in column_stds.items():\n",
    "    print(f\"standard deviation for '{col}': {col_std}\")"
   ]
  },
  {
   "cell_type": "code",
   "execution_count": 39,
   "id": "2a1a8ebe-73b6-4a7b-8b1c-ed31b3250da4",
   "metadata": {},
   "outputs": [
    {
     "name": "stdout",
     "output_type": "stream",
     "text": [
      "Unnamed: 0    False\n",
      "Category      False\n",
      "Age           False\n",
      "Sex           False\n",
      "ALB            True\n",
      "ALP            True\n",
      "ALT            True\n",
      "AST           False\n",
      "BIL           False\n",
      "CHE           False\n",
      "CHOL           True\n",
      "CREA          False\n",
      "GGT           False\n",
      "PROT           True\n",
      "dtype: bool\n"
     ]
    }
   ],
   "source": [
    "#Checking to see which columns have null values\n",
    "null_columns = df.isnull().any()\n",
    "print(null_columns)\n",
    "\n",
    "\n",
    "#Null values appear in ALB, ALP, ALT,CHOL, and PROT columns"
   ]
  },
  {
   "cell_type": "code",
   "execution_count": 40,
   "id": "5ad6eb25-7cf0-4efc-901b-6a8279cedbac",
   "metadata": {},
   "outputs": [
    {
     "name": "stdout",
     "output_type": "stream",
     "text": [
      "            count         %\n",
      "ALP            18  2.926829\n",
      "CHOL           10  1.626016\n",
      "ALB             1  0.162602\n",
      "ALT             1  0.162602\n",
      "PROT            1  0.162602\n",
      "Unnamed: 0      0  0.000000\n",
      "Category        0  0.000000\n",
      "Age             0  0.000000\n",
      "Sex             0  0.000000\n",
      "AST             0  0.000000\n",
      "BIL             0  0.000000\n",
      "CHE             0  0.000000\n",
      "CREA            0  0.000000\n",
      "GGT             0  0.000000\n"
     ]
    }
   ],
   "source": [
    "#Printing missing sorted to have \n",
    "#a side by side comparrison of the missing values compared to isnull\n",
    "\n",
    "print(missing_sorted)\n",
    "\n",
    "#The missing_sorted and isnull are consistent in demonstrating that \n",
    "#the same 5 columns have missing values. Further investigation is \n",
    "#warranted to understand the missing data and how to handle it. "
   ]
  },
  {
   "cell_type": "code",
   "execution_count": 41,
   "id": "a7bdb7a7-a403-4f92-9400-7a4e50fc34eb",
   "metadata": {},
   "outputs": [
    {
     "name": "stdout",
     "output_type": "stream",
     "text": [
      "Unnamed: 0    615\n",
      "Category      615\n",
      "Age           615\n",
      "Sex           615\n",
      "ALB           614\n",
      "ALP           597\n",
      "ALT           614\n",
      "AST           615\n",
      "BIL           615\n",
      "CHE           615\n",
      "CHOL          605\n",
      "CREA          615\n",
      "GGT           615\n",
      "PROT          614\n",
      "dtype: int64\n"
     ]
    }
   ],
   "source": [
    "# Counting non-null values in each column\n",
    "column_counts = df.count()\n",
    "\n",
    "# Display the counts\n",
    "print(column_counts)\n",
    "\n"
   ]
  },
  {
   "cell_type": "code",
   "execution_count": 42,
   "id": "10b252e3-464e-43e7-bbd9-da9b7698357b",
   "metadata": {},
   "outputs": [
    {
     "name": "stdout",
     "output_type": "stream",
     "text": [
      "     Unnamed: 0       Category  Age Sex   ALB    ALP    ALT    AST    BIL  \\\n",
      "121         122  0=Blood Donor   43   m  48.6   45.0   10.5   40.5    5.3   \n",
      "319         320  0=Blood Donor   32   f  47.4   52.5   19.1   17.1    4.6   \n",
      "329         330  0=Blood Donor   33   f  42.4  137.2   14.2   13.1    3.4   \n",
      "413         414  0=Blood Donor   46   f  42.9   55.1   15.2   29.8    3.6   \n",
      "424         425  0=Blood Donor   48   f  45.6  107.2   24.4   39.0   13.8   \n",
      "433         434  0=Blood Donor   48   f  46.8   93.3   10.0   23.2    4.3   \n",
      "498         499  0=Blood Donor   57   f  48.4   94.4    2.5   39.6    2.3   \n",
      "540         541    1=Hepatitis   38   m  45.0   56.3    NaN   33.1    7.0   \n",
      "541         542    1=Hepatitis   19   m  41.0    NaN   87.0   67.0   12.0   \n",
      "545         546    1=Hepatitis   29   m  49.0    NaN   53.0   39.0   15.0   \n",
      "546         547    1=Hepatitis   30   m  45.0    NaN   66.0   45.0   14.0   \n",
      "568         569     2=Fibrosis   49   m  39.0    NaN  118.0   62.0   10.0   \n",
      "569         570     2=Fibrosis   49   m  46.0    NaN  114.0   75.0   16.0   \n",
      "570         571     2=Fibrosis   50   m  42.0    NaN  258.0  106.0   15.0   \n",
      "571         572     2=Fibrosis   53   m  46.0    NaN   34.0   43.0   14.0   \n",
      "576         577     2=Fibrosis   71   m  37.0    NaN  130.0   90.0   15.0   \n",
      "581         582     2=Fibrosis   49   f  39.0    NaN   46.0   39.0    9.0   \n",
      "582         583     2=Fibrosis   51   f  37.0    NaN  164.0   70.0    9.0   \n",
      "583         584     2=Fibrosis   56   f  39.0    NaN   42.0   34.0   10.0   \n",
      "584         585     2=Fibrosis   75   f  36.0    NaN  114.0  125.0   14.0   \n",
      "585         586    3=Cirrhosis   38   m  44.0    NaN   94.0   60.0   12.0   \n",
      "590         591    3=Cirrhosis   46   m  20.0    NaN   62.0  113.0  254.0   \n",
      "592         593    3=Cirrhosis   47   m  42.0    NaN  159.0  102.0   11.0   \n",
      "603         604    3=Cirrhosis   65   m   NaN    NaN   40.0   54.0   13.0   \n",
      "613         614    3=Cirrhosis   46   f  33.0    NaN   39.0   62.0   20.0   \n",
      "614         615    3=Cirrhosis   59   f  36.0    NaN  100.0   80.0   12.0   \n",
      "\n",
      "       CHE  CHOL   CREA    GGT  PROT  \n",
      "121   7.09   NaN   63.0   25.1  70.0  \n",
      "319  10.19   NaN   63.0   23.0  72.2  \n",
      "329   8.23   NaN   48.0   25.7  74.4  \n",
      "413   8.37   NaN   61.0   29.0  71.9  \n",
      "424   9.77   NaN   88.0   38.0  75.1  \n",
      "433  12.41   NaN   52.0   23.9  72.4  \n",
      "498   8.84   NaN   82.0    6.4  76.8  \n",
      "540   9.58   6.0   77.9   18.9  63.0  \n",
      "541   7.55   3.9   62.0   65.0  75.0  \n",
      "545   8.79   3.6   79.0   37.0  90.0  \n",
      "546  12.16   6.1   86.0   43.0  77.0  \n",
      "568   7.28   3.5   72.0   74.0  81.0  \n",
      "569  10.43   5.2   72.0   59.0  82.0  \n",
      "570   8.74   4.7   77.0   80.0  84.0  \n",
      "571   8.77   4.0  112.0  203.0  76.0  \n",
      "576   9.92   4.7   79.0   77.0  76.0  \n",
      "581  10.21   3.1   89.0   53.0  79.0  \n",
      "582   3.99   4.2   67.0   43.0  72.0  \n",
      "583   7.75   5.0   80.0   84.0  78.0  \n",
      "584   6.65   NaN   57.0  177.0  72.0  \n",
      "585   4.37   3.2   61.0   99.0  77.0  \n",
      "590   1.48   NaN  114.0  138.0   NaN  \n",
      "592   6.29   5.5   58.0  201.0  79.0  \n",
      "603   7.50   NaN   70.0  107.0  79.0  \n",
      "613   3.56   4.2   52.0   50.0  71.0  \n",
      "614   9.07   5.3   67.0   34.0  68.0  \n"
     ]
    }
   ],
   "source": [
    "# Filtering and displaying rows with null values using .loc[]\n",
    "rows_with_nulls = df.loc[df.isnull().any(axis=1)]\n",
    "print(rows_with_nulls)\n",
    "\n",
    "#The data has more patients who are Hep C negative than are Hep C positive.\n",
    "#Since there are many missing ALP values that are in rows with Hep C + patients I am inclided to delete the ALP column all together because\n",
    "# I do not want to delete patients (entire rows) with Hep C as this could negatively influence the model later on. \n",
    "# It would seem resonable to delete Chol column (liver cholesterol) from the df as it has a significant amount of nulls as well. \n",
    "# Since the ALT and ALB columns only have one missing value each it would be best to just delete the rows where they are found. \n",
    "# In this case dropping specific columns and rows is the best option. \n",
    "#I would not want to add zeros or default to summary statistic values to fill in for lab results\n",
    "#because these results are unique to each patient and would effect the reliability of the model.\n",
    "#Overall we want to keep as many Hep C + patients as possible in order to obtain the most accurate predictions while building the model. "
   ]
  },
  {
   "cell_type": "code",
   "execution_count": 43,
   "id": "c8589c32-28d9-404d-98f9-94a083932ffd",
   "metadata": {},
   "outputs": [
    {
     "name": "stdout",
     "output_type": "stream",
     "text": [
      "     Unnamed: 0     Category  Age Sex   ALB    ALP    ALT    AST   BIL   CHE  \\\n",
      "540         541  1=Hepatitis   38   m  45.0   56.3    NaN   33.1   7.0  9.58   \n",
      "541         542  1=Hepatitis   19   m  41.0    NaN   87.0   67.0  12.0  7.55   \n",
      "542         543  1=Hepatitis   23   m  47.0   19.1   38.9  164.2  17.0  7.09   \n",
      "543         544  1=Hepatitis   25   m  42.0   38.2   63.3  187.7  14.0  6.00   \n",
      "544         545  1=Hepatitis   27   m  45.0   27.5   10.5   37.8  10.0  8.77   \n",
      "..          ...          ...  ...  ..   ...    ...    ...    ...   ...   ...   \n",
      "610         611  3=Cirrhosis   62   f  32.0  416.6    5.9  110.3  50.0  5.57   \n",
      "611         612  3=Cirrhosis   64   f  24.0  102.8    2.9   44.4  20.0  1.54   \n",
      "612         613  3=Cirrhosis   64   f  29.0   87.3    3.5   99.0  48.0  1.66   \n",
      "613         614  3=Cirrhosis   46   f  33.0    NaN   39.0   62.0  20.0  3.56   \n",
      "614         615  3=Cirrhosis   59   f  36.0    NaN  100.0   80.0  12.0  9.07   \n",
      "\n",
      "     CHOL  CREA    GGT  PROT  \n",
      "540  6.00  77.9   18.9  63.0  \n",
      "541  3.90  62.0   65.0  75.0  \n",
      "542  3.20  79.3   90.4  70.1  \n",
      "543  4.28  66.9   40.2  70.5  \n",
      "544  3.20  55.2   35.9  74.5  \n",
      "..    ...   ...    ...   ...  \n",
      "610  6.30  55.7  650.9  68.5  \n",
      "611  3.02  63.0   35.9  71.3  \n",
      "612  3.63  66.7   64.2  82.0  \n",
      "613  4.20  52.0   50.0  71.0  \n",
      "614  5.30  67.0   34.0  68.0  \n",
      "\n",
      "[75 rows x 14 columns]\n"
     ]
    }
   ],
   "source": [
    "#Filtering for rows that have patients with categories 1-3 (hep c positive) \n",
    "HepC_positive = df[(df['Category'] != '0=Blood Donor') & (df['Category'] != '0s=suspect Blood Donor')]\n",
    "\n",
    "# Display the filtered DataFrame\n",
    "print(HepC_positive)\n",
    "\n",
    "HepC_positive_count = len(HepC_positive)\n",
    "\n",
    "#75 patients from the dataset are Hep C +"
   ]
  },
  {
   "cell_type": "code",
   "execution_count": 44,
   "id": "10d4a325-6c44-4633-9e5a-31390c0712ad",
   "metadata": {},
   "outputs": [
    {
     "name": "stdout",
     "output_type": "stream",
     "text": [
      "Number of rows in the DataFrame: 615\n"
     ]
    }
   ],
   "source": [
    "# Total number of patients in the df \n",
    "num_rows = len(df)\n",
    "\n",
    "# Display the number of rows\n",
    "print(\"Number of rows in the DataFrame:\", num_rows)\n",
    "\n",
    "\n",
    "#Therefore there are 615 patients and 75 of them have Hep C. This justifies why we cannot delete entire rows of patients who has\n",
    "#a null value ALP value; we must just delete the ALP column all together. \n",
    "#Hep C positive = 75\n",
    "#Hep C negative = 540"
   ]
  },
  {
   "cell_type": "code",
   "execution_count": 45,
   "id": "c10d4394-0bd8-4e9d-adda-4de793ae9171",
   "metadata": {},
   "outputs": [
    {
     "name": "stdout",
     "output_type": "stream",
     "text": [
      "          Category  Age Sex   ALB    ALP    ALT    AST   BIL    CHE  CHOL  \\\n",
      "0    0=Blood Donor   32   m  38.5   52.5    7.7   22.1   7.5   6.93  3.23   \n",
      "1    0=Blood Donor   32   m  38.5   70.3   18.0   24.7   3.9  11.17  4.80   \n",
      "2    0=Blood Donor   32   m  46.9   74.7   36.2   52.6   6.1   8.84  5.20   \n",
      "3    0=Blood Donor   32   m  43.2   52.0   30.6   22.6  18.9   7.33  4.74   \n",
      "4    0=Blood Donor   32   m  39.2   74.1   32.6   24.8   9.6   9.15  4.32   \n",
      "..             ...  ...  ..   ...    ...    ...    ...   ...    ...   ...   \n",
      "610    3=Cirrhosis   62   f  32.0  416.6    5.9  110.3  50.0   5.57  6.30   \n",
      "611    3=Cirrhosis   64   f  24.0  102.8    2.9   44.4  20.0   1.54  3.02   \n",
      "612    3=Cirrhosis   64   f  29.0   87.3    3.5   99.0  48.0   1.66  3.63   \n",
      "613    3=Cirrhosis   46   f  33.0    NaN   39.0   62.0  20.0   3.56  4.20   \n",
      "614    3=Cirrhosis   59   f  36.0    NaN  100.0   80.0  12.0   9.07  5.30   \n",
      "\n",
      "      CREA    GGT  PROT  \n",
      "0    106.0   12.1  69.0  \n",
      "1     74.0   15.6  76.5  \n",
      "2     86.0   33.2  79.3  \n",
      "3     80.0   33.8  75.7  \n",
      "4     76.0   29.9  68.7  \n",
      "..     ...    ...   ...  \n",
      "610   55.7  650.9  68.5  \n",
      "611   63.0   35.9  71.3  \n",
      "612   66.7   64.2  82.0  \n",
      "613   52.0   50.0  71.0  \n",
      "614   67.0   34.0  68.0  \n",
      "\n",
      "[615 rows x 13 columns]\n"
     ]
    }
   ],
   "source": [
    "#dropping the unnamed column as it is a redundant index\n",
    "df = df.drop(\"Unnamed: 0\", axis=1)\n",
    "\n",
    "# Display the DataFrame after dropping the column\n",
    "print(df)\n"
   ]
  },
  {
   "cell_type": "code",
   "execution_count": 46,
   "id": "14bdccd7-7f6c-4c60-b61e-8223472cf4e6",
   "metadata": {},
   "outputs": [
    {
     "name": "stdout",
     "output_type": "stream",
     "text": [
      "          Category  Age Sex   ALB    ALP    ALT    AST    BIL    CHE  CHOL  \\\n",
      "121  0=Blood Donor   43   m  48.6   45.0   10.5   40.5    5.3   7.09   NaN   \n",
      "319  0=Blood Donor   32   f  47.4   52.5   19.1   17.1    4.6  10.19   NaN   \n",
      "329  0=Blood Donor   33   f  42.4  137.2   14.2   13.1    3.4   8.23   NaN   \n",
      "413  0=Blood Donor   46   f  42.9   55.1   15.2   29.8    3.6   8.37   NaN   \n",
      "424  0=Blood Donor   48   f  45.6  107.2   24.4   39.0   13.8   9.77   NaN   \n",
      "433  0=Blood Donor   48   f  46.8   93.3   10.0   23.2    4.3  12.41   NaN   \n",
      "498  0=Blood Donor   57   f  48.4   94.4    2.5   39.6    2.3   8.84   NaN   \n",
      "540    1=Hepatitis   38   m  45.0   56.3    NaN   33.1    7.0   9.58   6.0   \n",
      "541    1=Hepatitis   19   m  41.0    NaN   87.0   67.0   12.0   7.55   3.9   \n",
      "545    1=Hepatitis   29   m  49.0    NaN   53.0   39.0   15.0   8.79   3.6   \n",
      "546    1=Hepatitis   30   m  45.0    NaN   66.0   45.0   14.0  12.16   6.1   \n",
      "568     2=Fibrosis   49   m  39.0    NaN  118.0   62.0   10.0   7.28   3.5   \n",
      "569     2=Fibrosis   49   m  46.0    NaN  114.0   75.0   16.0  10.43   5.2   \n",
      "570     2=Fibrosis   50   m  42.0    NaN  258.0  106.0   15.0   8.74   4.7   \n",
      "571     2=Fibrosis   53   m  46.0    NaN   34.0   43.0   14.0   8.77   4.0   \n",
      "576     2=Fibrosis   71   m  37.0    NaN  130.0   90.0   15.0   9.92   4.7   \n",
      "581     2=Fibrosis   49   f  39.0    NaN   46.0   39.0    9.0  10.21   3.1   \n",
      "582     2=Fibrosis   51   f  37.0    NaN  164.0   70.0    9.0   3.99   4.2   \n",
      "583     2=Fibrosis   56   f  39.0    NaN   42.0   34.0   10.0   7.75   5.0   \n",
      "584     2=Fibrosis   75   f  36.0    NaN  114.0  125.0   14.0   6.65   NaN   \n",
      "585    3=Cirrhosis   38   m  44.0    NaN   94.0   60.0   12.0   4.37   3.2   \n",
      "590    3=Cirrhosis   46   m  20.0    NaN   62.0  113.0  254.0   1.48   NaN   \n",
      "592    3=Cirrhosis   47   m  42.0    NaN  159.0  102.0   11.0   6.29   5.5   \n",
      "603    3=Cirrhosis   65   m   NaN    NaN   40.0   54.0   13.0   7.50   NaN   \n",
      "613    3=Cirrhosis   46   f  33.0    NaN   39.0   62.0   20.0   3.56   4.2   \n",
      "614    3=Cirrhosis   59   f  36.0    NaN  100.0   80.0   12.0   9.07   5.3   \n",
      "\n",
      "      CREA    GGT  PROT  \n",
      "121   63.0   25.1  70.0  \n",
      "319   63.0   23.0  72.2  \n",
      "329   48.0   25.7  74.4  \n",
      "413   61.0   29.0  71.9  \n",
      "424   88.0   38.0  75.1  \n",
      "433   52.0   23.9  72.4  \n",
      "498   82.0    6.4  76.8  \n",
      "540   77.9   18.9  63.0  \n",
      "541   62.0   65.0  75.0  \n",
      "545   79.0   37.0  90.0  \n",
      "546   86.0   43.0  77.0  \n",
      "568   72.0   74.0  81.0  \n",
      "569   72.0   59.0  82.0  \n",
      "570   77.0   80.0  84.0  \n",
      "571  112.0  203.0  76.0  \n",
      "576   79.0   77.0  76.0  \n",
      "581   89.0   53.0  79.0  \n",
      "582   67.0   43.0  72.0  \n",
      "583   80.0   84.0  78.0  \n",
      "584   57.0  177.0  72.0  \n",
      "585   61.0   99.0  77.0  \n",
      "590  114.0  138.0   NaN  \n",
      "592   58.0  201.0  79.0  \n",
      "603   70.0  107.0  79.0  \n",
      "613   52.0   50.0  71.0  \n",
      "614   67.0   34.0  68.0  \n"
     ]
    }
   ],
   "source": [
    "#Now that the unnamed column is dropped I want to see where the \n",
    "#nulls are indexed so that I can accuratley drop them\n",
    "rows_with_nulls = df.loc[df.isnull().any(axis=1)]\n",
    "print(rows_with_nulls)\n",
    "\n"
   ]
  },
  {
   "cell_type": "code",
   "execution_count": 47,
   "id": "2277f8fa-672b-42d3-82d3-5c8b200eb99a",
   "metadata": {},
   "outputs": [],
   "source": [
    "#Rows 540 603, and 590 will be dropped \n",
    "# Drop rows by their index labels (rows 540 and 603)\n",
    "df = df.drop([540, 603,590])\n",
    "\n",
    "\n",
    "#Therefore we now have 612 rows"
   ]
  },
  {
   "cell_type": "code",
   "execution_count": 48,
   "id": "9bb663db-d07a-47e1-957a-75e4619b466d",
   "metadata": {},
   "outputs": [
    {
     "name": "stdout",
     "output_type": "stream",
     "text": [
      "          Category  Age Sex   ALB    ALT    AST   BIL    CHE   CREA    GGT  \\\n",
      "0    0=Blood Donor   32   m  38.5    7.7   22.1   7.5   6.93  106.0   12.1   \n",
      "1    0=Blood Donor   32   m  38.5   18.0   24.7   3.9  11.17   74.0   15.6   \n",
      "2    0=Blood Donor   32   m  46.9   36.2   52.6   6.1   8.84   86.0   33.2   \n",
      "3    0=Blood Donor   32   m  43.2   30.6   22.6  18.9   7.33   80.0   33.8   \n",
      "4    0=Blood Donor   32   m  39.2   32.6   24.8   9.6   9.15   76.0   29.9   \n",
      "..             ...  ...  ..   ...    ...    ...   ...    ...    ...    ...   \n",
      "610    3=Cirrhosis   62   f  32.0    5.9  110.3  50.0   5.57   55.7  650.9   \n",
      "611    3=Cirrhosis   64   f  24.0    2.9   44.4  20.0   1.54   63.0   35.9   \n",
      "612    3=Cirrhosis   64   f  29.0    3.5   99.0  48.0   1.66   66.7   64.2   \n",
      "613    3=Cirrhosis   46   f  33.0   39.0   62.0  20.0   3.56   52.0   50.0   \n",
      "614    3=Cirrhosis   59   f  36.0  100.0   80.0  12.0   9.07   67.0   34.0   \n",
      "\n",
      "     PROT  \n",
      "0    69.0  \n",
      "1    76.5  \n",
      "2    79.3  \n",
      "3    75.7  \n",
      "4    68.7  \n",
      "..    ...  \n",
      "610  68.5  \n",
      "611  71.3  \n",
      "612  82.0  \n",
      "613  71.0  \n",
      "614  68.0  \n",
      "\n",
      "[612 rows x 11 columns]\n"
     ]
    }
   ],
   "source": [
    "#Dropping the ALP & Chol columns \n",
    "df = df.drop(['ALP', 'CHOL'],axis=1)\n",
    "\n",
    "print(df)\n",
    "\n",
    "#Total rows = 612\n",
    "#Total columns = 11 "
   ]
  },
  {
   "cell_type": "code",
   "execution_count": 49,
   "id": "42fbe68b-4022-4272-a9f0-1d552c8de263",
   "metadata": {},
   "outputs": [
    {
     "name": "stdout",
     "output_type": "stream",
     "text": [
      "Category    0\n",
      "Age         0\n",
      "Sex         0\n",
      "ALB         0\n",
      "ALT         0\n",
      "AST         0\n",
      "BIL         0\n",
      "CHE         0\n",
      "CREA        0\n",
      "GGT         0\n",
      "PROT        0\n",
      "dtype: int64\n"
     ]
    }
   ],
   "source": [
    "#printing null columns to confirm we no longer have nulls\n",
    "print(df.isnull().sum())\n"
   ]
  },
  {
   "cell_type": "code",
   "execution_count": 50,
   "id": "cd83219d-d3fd-409c-b9ba-a1d1cd11cd6b",
   "metadata": {},
   "outputs": [],
   "source": [
    "#Path to local repo\n",
    "repo_path = \"/Users/Naomi/Documents/Springboard/Projects/CapstoneTwo\"\n",
    "\n",
    "#Check if the directory exists, and if not, create it\n",
    "if not os.path.exists(repo_path):\n",
    "    os.makedirs(repo_path)\n",
    "\n",
    "#Export df to CSV in local repo \n",
    "df.to_csv(os.path.join(repo_path, 'HepC.csv'), index=False)\n",
    "\n",
    "\n"
   ]
  },
  {
   "cell_type": "code",
   "execution_count": 51,
   "id": "12c8465a-4d86-4d8e-8ce9-c2942d568107",
   "metadata": {},
   "outputs": [],
   "source": [
    "#SUMMARY: The data was cleaned to ensure that all columns contained consistent data types and were free of redundnacy. \n",
    "#Summary statistics were performed to view how the data was skewed. \n",
    "#There were a total of 615 patients within the original df. And of those 75 are positive for Hep C. When looking at Null values the ALP &\n",
    "#ALT columns had the most nulls. It was important to preserve as many Hep C + patients in order to have the most accurate model in the end. \n",
    "#Therefore it was decided that the ALP and CHOL columns would be dropped. The default index category was also dropped as it was redundant. \n",
    "#Since PROT, ALB and ALT only had 1 missing value each I felt comfortable dropping these rows entirely. \n",
    "#This data is of liver function tests and therefore would be inappropriate to subject missing values to summary statistics or 0s. \n",
    "#The total number of patients (rows) after data cleaning is 612 and there are 11 columns. \n",
    "#Of those 612 patients 72 have Hep C. \n"
   ]
  }
 ],
 "metadata": {
  "kernelspec": {
   "display_name": "Python 3 (ipykernel)",
   "language": "python",
   "name": "python3"
  },
  "language_info": {
   "codemirror_mode": {
    "name": "ipython",
    "version": 3
   },
   "file_extension": ".py",
   "mimetype": "text/x-python",
   "name": "python",
   "nbconvert_exporter": "python",
   "pygments_lexer": "ipython3",
   "version": "3.11.8"
  }
 },
 "nbformat": 4,
 "nbformat_minor": 5
}
